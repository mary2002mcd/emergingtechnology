{
 "cells": [
  {
   "cell_type": "markdown",
   "metadata": {},
   "source": [
    "Task 1: Third-Order Letter Approximation Model"
   ]
  },
  {
   "cell_type": "code",
   "execution_count": 1,
   "metadata": {},
   "outputs": [],
   "source": [
    "# Imports.\n",
    "\n",
    "# Selecting random items from lists.\n",
    "import random\n",
    "\n",
    "# Efficient data structures.\n",
    "import collections"
   ]
  },
  {
   "cell_type": "markdown",
   "metadata": {},
   "source": [
    "Step 1: A method that will read in the text from one of the books"
   ]
  },
  {
   "cell_type": "code",
   "execution_count": 2,
   "metadata": {},
   "outputs": [],
   "source": [
    "#method to read in a book\n",
    "def readBook(book):\n",
    "    with open('books/'+book, 'r', encoding='utf-8') as file:#open the file\n",
    "        english = file.read()#store the read in file in a variable\n",
    "\n",
    "    return english#return the text"
   ]
  },
  {
   "cell_type": "code",
   "execution_count": 3,
   "metadata": {},
   "outputs": [],
   "source": [
    "#Clean the text by putting it to lower case and only keeping ascii chars\n",
    "def cleanBook(book):\n",
    "    #change everything to lower case\n",
    "    english = book.upper();\n",
    "    # The characters to keep.\n",
    "    keep = 'ABCDEFGHIJKLMNOPQRSTUVWXYZ .'\n",
    "    # Remove unwanted characters.\n",
    "    cleaned = ''.join(c for c in english if c in keep)\n",
    "\n",
    "    return cleaned\n"
   ]
  },
  {
   "cell_type": "code",
   "execution_count": 5,
   "metadata": {},
   "outputs": [
    {
     "name": "stdout",
     "output_type": "stream",
     "text": [
      "                                     .                        ...                         .                                     . .            ..                 .                                                                                                                                                                                                                                     . .                                                                                                              . .                                                                                                                                                                                                                                                                                 .            .                                      .                           .                      .                      .                                .                 .          .                                                .        .                                                                                                                                                                                                                                                                                                                                                                                                                                                                                                                                                                                                                                                                                                                                                                                                                                                                                                                                                                                                                                                                                                                                                                                                                                                                                                                                                                                                                                                                                                                                                                                                       .                .            .           .          .    .                 .         .                 .           .                     .     .                     .      .           .                   .            .         .                   .                  .                          .                      .                 .                    .          .                        .                         .                                 .              .                     .                                   .                .          .          .                          .             .                          .           .     .                                              .             .                  .     .           .            .              .                  .                    .          .                                                           .                     .                  .                           .       . . .               .                                   .            .                          .            .                 .               .                                          .                                       .                    .              .                            .                                 .                                                .               .                     .                   .                         .          .                       .               .                                    .                    .                                .    .                       .                  ...         .                      .                          .                     .                        .                                            .                   .                .            .                                     .                            .                          .     .                                .                  .       .                       .               .                         .           .    .                       .                    .                            .          .            .        .               .                                          .                 .                                .             .                  .                     .               .   .                      .               .             .             .      .                     .                .                    .                           .                               .              .              .                       .                  .              .               .                            .                                                 .       .                   .               .            .              .    .         .    .      .                               .                .                            .            .              .         .          .      .          .                 .       .              .                      .   .                              .                       .              .                     .               .                  .               .           .                                              .     .               .         .                                   .         .                .        .                       .                                    .                 .                .        .            .          .                  .                      .        .                                 .       .                         .              .                  .            .                    .                              .                          .         .                       .     .       .                  .          .          .         .                          .                   .                    .               .                                        .                .                      .                   .          .                          .                   .          .                    .                   .                       .       .                  .        .            .        .        .                         .              .                     .                          .      .   .  .    .  .           .                                .                     .        .                   .                     .                              .         .        .             .      .                                                      .                        .       .                                                                                   .            .                    .                            .          .                       .             .             .                 .      .               .            .                            .      .           .      .           .                       .        .                 .         .                                .                     .             ...               .             .              .                     .                         .                 .             .               .               .                         .                .                            .          .                      .                    .              .         .                .                  .                   .                           .                   .              .    .                       .                         .                                      .               .                .                                    .                                .           .                  .                   .          .                             .      .                     .          .               .        .                 .                     .                .                .            .              .            .             .              .            .            .            .                           .                            .                     .                     .                 .            .                      .                     .                 .                            .                                  .          .               .        .                 .             .                             .                      .                 .                          .                   .                .                 .                        .                 .                       .           .                                         .               .              .            .      .                              .                   .              .         .                .          .                         .        .                     .         .                    .                      .                 .                 .            .                 .                .    .               .                        .                                 .          .                               .             .               .                                          .              .                .                       .                     .          .   .                .             .                         .         .     .                            .        .                .          .                             .                      .              .       .    .                             .           .     .               .                  .   .                     .         .    .                         .                .                               .               .             .                   .            .             .          .                               .             .                    .                                            .                         .                 .                         .                                                                             .              .                         .                 .                                        .         .                    .         .           .                          .                 .               .                      .             .             .                   .                        .                .                                     .                   .              .           .       .              . .                             .         .                                 .             .            .                .        .               .           .               .                .                        .                .                            .           .                    .                    .             .             .                           .                 .                          .                                 .              .                  .                     .                  .    .                               .       .          .                                                      .           .                 .                              .                        .               .              .                    .               .                .                    .                .                                     .                                                .            .                           .          .                   .                                   .        .                 .                   .     .        .                            .                                                             .              .                   .                            .                                       .                           .         .                 .                 .                    .           .              .                 .                            .                       .                         .            .              .              .                          .         .                            .    .                          .                          .                          .                          .                      .                  .             .                .                           .                      .               .        .                 .      .                                           .                .                                                   .             .           .        .      .             .                         .                 .                    .                                          .                    .                .        .                        .             .                .                .                    .                  .            .                      .                         .                        .                     .              .                             .                               .                       .                    .                    .            .                 .        .         .          .                 .             .                     .       .                .                               .                                                         .                       .            .               .             .                      .                                .    .                           .                 .                                                        .                    .            .                          .         .                                     .              .                   .                          .                          .                                   .              .                  .                         .           .                                        .                 .                      .                 .             .              .                  .            .                   .                         .           .                             .                                .                     .                                                      .               .                  .               .                            .                              .                                 .                              .                          .                          .     .                   .                                       .                               .                    .                    .                                    .                    .                        .        .                        .                         .                               .                      .        .                                              .                            .                             .                             .                                                         .                                                         .                        .         ..                               .                            .                                 .                 .                  .                      ..  .         .                                                                ... .         ..                               .                             .                                                   .....      .                          .                       .  . .                              .   . ...                    .               .                                                 .                                       .                              ...                  .           .                                     .                  ...         ...                                                                                       .                                ...                                 .  ...              ..                                  .                             ..  ..                  ..  ......                        ..  ..        .                         ....                               ....                          ..             ....                       .                                  ..                                       .              ......                      ..  ......                                                                     .                                                  .                                       .                                                              .                                                                    .                                                        .               ..                                                        .                               .    ...                                            .         ......                    ..       .                                                        ....                 ..                                  .                      ...                                    ....                                              .                .                     .                              .                   ....             ..                            ....                  .                                   .              ....                                                                                            . .                               .                 .                              .                    .                            ... .                                   .         .                ..      .                .                   .. .                                                  .               .                   .                      .               .             ...                                   .                   . ..      .           .                .    ... .         .                    .                .                    ..      .            .            ...                                   .\n"
     ]
    }
   ],
   "source": [
    "text = readBook('voyaging.txt')\n",
    "cleanedText = cleanBook(text)\n",
    "print(cleanedText)"
   ]
  }
 ],
 "metadata": {
  "kernelspec": {
   "display_name": "Python 3",
   "language": "python",
   "name": "python3"
  },
  "language_info": {
   "codemirror_mode": {
    "name": "ipython",
    "version": 3
   },
   "file_extension": ".py",
   "mimetype": "text/x-python",
   "name": "python",
   "nbconvert_exporter": "python",
   "pygments_lexer": "ipython3",
   "version": "3.12.6"
  }
 },
 "nbformat": 4,
 "nbformat_minor": 2
}
