{
 "cells": [
  {
   "cell_type": "markdown",
   "metadata": {},
   "source": [
    "## **Task 1: Third-Order Letter Approximation Model** \n",
    "**Build a trigram model that counts 3 char sequences in text**\n",
    "\n",
    "**Steps**\n",
    "1. Selected 5 English works from Project Gutenburg\n",
    "2. Read in the books\n",
    "3. Process the text to: remove the preamble and postamble\n",
    "4. Make all letters uppercase and only keeps the english alphabet, spaces and full stops\n",
    "5. Create a trigram model using a dictionary"
   ]
  },
  {
   "cell_type": "markdown",
   "metadata": {},
   "source": [
    "**Imports Required Modules**\n",
    "1. Random for generating random choiced based on the weights\n",
    "2. Collections for efficient data structures\n",
    "3. Json for exporting data in JSON format\n",
    "\n",
    "**References**\n",
    "- [Random Module](https://docs.python.org/3/library/random.html)\n",
    "- [Collections Module](https://docs.python.org/3/library/collections.html)\n",
    "- [Json Module](https://docs.python.org/3/library/json.html)"
   ]
  },
  {
   "cell_type": "code",
   "execution_count": 56,
   "metadata": {},
   "outputs": [],
   "source": [
    "# Imports.\n",
    "# Selecting random items from lists.\n",
    "import random\n",
    "# Efficient data structures.\n",
    "import collections\n",
    "import json"
   ]
  },
  {
   "cell_type": "markdown",
   "metadata": {},
   "source": [
    "**Method for Reading in the Files and Preprocessing the Text**\n",
    "- Read in books and convert all text to uppercase\n",
    "- Using the distinct project gutenburg start and end markers, remove the preamble and postamble using the split method\n",
    "- Keep only the relevant characters such as letters, spaces and full stops\n",
    "\n",
    "**References**\n",
    "- [String Manipulation](https://docs.python.org/3/library/stdtypes.html#string-methods)\n",
    "- [Splitting the text](https://www.freecodecamp.org/news/how-to-split-a-string-in-python/)\n",
    "- [Class work](https://github.com/ianmcloughlin/2425_emerging_technologies/blob/main/02_language_models.ipynb)"
   ]
  },
  {
   "cell_type": "code",
   "execution_count": 57,
   "metadata": {},
   "outputs": [],
   "source": [
    "#Clean the text by putting it to lower case and only keeping ascii chars\n",
    "def readAndCleanBook(filePath):\n",
    "    with open(filePath, 'r', encoding='utf-8') as file:#open the file\n",
    "        text = file.read().upper()#store the read in file in a variable\n",
    "    #sentences that are at the start and end of the actual content\n",
    "    startOfBook = \"*** START OF THE PROJECT GUTENBERG EBOOK\"\n",
    "    endOfBook = \"*** END OF THE PROJECT GUTENBERG EBOOK\"\n",
    "    #Make the text uppercase, and cut out the preambe and postamble of the project\n",
    "    #gutenburg books I picked\n",
    "    #https://www.freecodecamp.org/news/how-to-split-a-string-in-python/\n",
    "    english = text.split(startOfBook, 1)[-1]\n",
    "    english = english.split(endOfBook, 1)[0]\n",
    "    # The characters to keep.\n",
    "    keepTheseCharacters = 'ABCDEFGHIJKLMNOPQRSTUVWXYZ .'\n",
    "    # Remove unwanted characters.\n",
    "    cleanedText = ''.join(c for c in english if c in keepTheseCharacters)\n",
    "    \n",
    "    return cleanedText\n"
   ]
  },
  {
   "cell_type": "markdown",
   "metadata": {},
   "source": [
    "**Building the Trigram Model**\n",
    "- This model counts the occurrences of every 3-char sequence in the cleaned text\n",
    "- Initialise an empty dictionary to store the trigram counts\n",
    "- Loop through each text in the list\n",
    "- Iterate through each trigram in the text we cleaned earlier and update the count in the dictionary\n",
    "\n",
    "**References**\n",
    "- [Dictionarys](https://docs.python.org/3/tutorial/datastructures.html#dictionaries)\n",
    "- [Class work](https://github.com/ianmcloughlin/2425_emerging_technologies/blob/main/02_language_models.ipynb)"
   ]
  },
  {
   "cell_type": "code",
   "execution_count": 58,
   "metadata": {},
   "outputs": [],
   "source": [
    "#method to build the trigram model by counting how many times 3 char sequences show up\n",
    "def makeTrigramModel(book):\n",
    "    #create a default int dictionary\n",
    "    #https://docs.python.org/3/tutorial/datastructures.html#dictionaries\n",
    "    trigramModel = collections.defaultdict(int)\n",
    "    #loop through the list\n",
    "    #https://github.com/ianmcloughlin/2425_emerging_technologies/blob/main/02_language_models.ipynb\n",
    "    for i in range(len(book) - 2):\n",
    "        #this is getting the 3 char sequence\n",
    "        trigram = book[i:i+3]\n",
    "        #increment the count\n",
    "        trigramModel[trigram] += 1\n",
    "    #retun the built trigram model\n",
    "    return trigramModel"
   ]
  },
  {
   "cell_type": "markdown",
   "metadata": {},
   "source": [
    "**Combine all 5 works to make bigger data for the model**\n",
    "- Uses a list comprehension to loop through the range of numbers \n",
    "- For every index i, call the function to read and clean the book of that file path\n",
    "- Store this into the list 'works'\n",
    "- Then join them all together to make 1 big text\n",
    "\n",
    "**References**\n",
    "- [List Comprehensions in Python](https://docs.python.org/3/tutorial/datastructures.html#list-comprehensions)"
   ]
  },
  {
   "cell_type": "code",
   "execution_count": 59,
   "metadata": {},
   "outputs": [],
   "source": [
    "#https://docs.python.org/3/tutorial/datastructures.html#list-comprehensions\n",
    "#combine the texts to make a bigger data set for the model\n",
    "works = [readAndCleanBook(f\"books/voyaging.txt\") for i in range(1, 6)]\n",
    "combinedTexts = ' '.join(works)"
   ]
  },
  {
   "cell_type": "markdown",
   "metadata": {},
   "source": [
    "**Call the method to make a trigram model and then print the results**"
   ]
  },
  {
   "cell_type": "code",
   "execution_count": 60,
   "metadata": {},
   "outputs": [
    {
     "name": "stdout",
     "output_type": "stream",
     "text": [
      "defaultdict(<class 'int'>, {' DA': 440, 'DAV': 95, 'AVI': 140, 'VID': 75, 'ID ': 185, 'D G': 125, ' GO': 395, 'GOE': 65, 'OES': 90, 'ES ': 1365, 'S V': 90, ' VO': 100, 'VOY': 35, 'OYA': 35, 'YAG': 35, 'AGI': 25, 'GIN': 120, 'ING': 1960, 'NG ': 1990, 'G  ': 20, '   ': 9270, '  D': 69, 'D  ': 80, '  G': 25, '  B': 15, ' BY': 205, 'BY ': 190, 'Y  ': 35, 'D B': 430, ' BI': 565, 'BIN': 60, 'INN': 25, 'NNE': 40, 'NEY': 5, 'EY ': 560, 'Y P': 105, ' PU': 280, 'PUT': 160, 'UTN': 55, 'TNA': 60, 'NAM': 235, 'AM ': 175, 'M  ': 45, '  W': 40, ' WI': 850, 'WIT': 615, 'ITH': 620, 'TH ': 740, 'H I': 180, ' IL': 25, 'ILL': 365, 'LLU': 10, 'LUS': 15, 'UST': 200, 'STR': 240, 'TRA': 195, 'RAT': 210, 'ATI': 70, 'TIO': 150, 'ION': 225, 'ONS': 175, 'NS ': 320, 'S F': 285, ' FR': 530, 'FRO': 365, 'ROM': 315, 'OM ': 405, 'M P': 35, ' PH': 15, 'PHO': 10, 'HOT': 105, 'OTO': 30, 'TOG': 35, 'OGR': 15, 'GRA': 110, 'RAP': 30, 'APH': 15, 'PHS': 5, 'HS ': 45, 'S A': 1560, ' AN': 3230, 'AND': 3625, 'ND ': 3535, ' DE': 280, 'DEC': 55, 'ECO': 50, 'COR': 45, 'ORA': 75, 'S B': 305, 'Y I': 145, ' IS': 1060, 'ISA': 35, 'SAB': 40, 'ABE': 30, 'BEL': 125, 'EL ': 85, 'L C': 60, ' CO': 815, 'COO': 50, 'OOP': 40, 'OPE': 205, 'PER': 175, 'ER ': 1705, 'R D': 85, ' DO': 500, 'DON': 105, 'ON ': 1115, 'N D': 60, ' DI': 345, 'DIC': 25, 'ICK': 120, 'CKE': 110, 'KER': 80, 'ERM': 60, 'RMA': 40, 'MAN': 350, 'AN ': 480, 'N  ': 45, '  A': 70, 'D D': 215, ' DW': 55, 'DWI': 85, 'WIG': 115, 'IGH': 895, 'GHT': 935, 'HT ': 770, 'T F': 365, 'FRA': 50, 'RAN': 185, 'ANK': 90, 'NKL': 30, 'KLI': 25, 'LIN': 275, 'IN ': 1325, ' G.': 10, 'G. ': 115, '. P': 40, ' P.': 10, 'P. ': 55, 'AMS': 35, 'MS ': 95, 'S S': 310, ' SO': 760, 'SON': 140, 'S  ': 60, '  N': 5, ' NE': 630, 'NEW': 105, 'EW ': 275, 'W Y': 40, ' YO': 185, 'YOR': 40, 'ORK': 75, 'RK ': 135, 'K A': 190, 'D L': 185, ' LO': 635, 'LON': 430, 'OND': 85, 'NDO': 25, '  T': 105, ' TH': 6935, 'THE': 7045, 'HE ': 4790, 'E K': 25, ' KN': 80, 'KNI': 15, 'NIC': 40, 'ERB': 30, 'RBO': 65, 'BOC': 10, 'OCK': 345, 'R P': 85, ' PR': 250, 'PRE': 145, 'RES': 310, 'ESS': 100, 'SS ': 150, '  C': 15, 'COP': 15, 'OPY': 5, 'PYR': 5, 'YRI': 10, 'RIG': 435, 'T  ': 30, 'Y G': 75, '  F': 50, ' FI': 805, 'FIR': 150, 'IRS': 145, 'RST': 140, 'ST ': 795, 'T P': 110, 'PRI': 75, 'RIN': 115, 'INT': 285, 'NTI': 135, 'TIN': 340, 'G S': 175, ' SE': 730, 'SEP': 10, 'EPT': 90, 'PTE': 10, 'TEM': 55, 'EMB': 45, 'MBE': 110, 'BER': 90, 'R  ': 25, '  S': 35, 'SEC': 35, 'CON': 75, 'D P': 185, 'G O': 290, ' OC': 100, 'OCT': 40, 'CTO': 55, 'TOB': 10, 'OBE': 15, 'THI': 555, 'HIR': 65, 'IRD': 225, 'RD ': 245, 'G N': 55, ' NO': 230, 'NOV': 20, 'OVE': 545, 'VEM': 25, ' FO': 845, 'FOU': 140, 'OUR': 340, 'URT': 65, 'RTH': 105, 'H P': 85, 'FIF': 30, 'IFT': 85, 'FTH': 25, '  M': 15, ' MA': 590, 'MAD': 85, 'ADE': 100, 'DE ': 165, 'E I': 655, ' IN': 1250, 'N T': 1325, 'E U': 80, ' UN': 215, 'UNI': 20, 'NIT': 20, 'ITE': 265, 'TED': 315, 'ED ': 1760, 'D S': 510, ' ST': 640, 'STA': 205, 'TAT': 15, 'ATE': 705, 'TES': 115, 'S O': 900, ' OF': 1750, 'OF ': 1580, 'F A': 215, ' AM': 60, 'AME': 290, 'MER': 110, 'ERI': 50, 'RIC': 80, 'ICA': 95, 'CA ': 20, 'A  ': 35, ' TO': 1735, 'TO ': 1520, 'O  ': 25, ' GR': 355, 'NDM': 20, 'DMA': 15, 'MA ': 80, 'NDP': 15, 'DPA': 10, 'PA ': 10, 'A B': 160, ' BU': 415, 'BUB': 10, 'UBA': 5, 'BA ': 5, 'A S': 310, 'SOL': 35, 'OLE': 140, 'LEM': 30, 'EMN': 15, 'MN ': 10, 'N F': 170, 'FOR': 835, 'ORE': 440, 'REW': 110, 'EWO': 30, 'WOR': 125, 'ORD': 70, 'RDM': 5, 'DMR': 5, 'MR.': 25, 'R. ': 210, '. G': 30, ' GE': 155, 'GEO': 15, 'EOR': 15, 'ORG': 30, 'RGE': 60, 'GE ': 265, 'E P': 415, 'M H': 20, ' HA': 1095, 'HAS': 105, 'AS ': 925, ' AS': 375, 'ASK': 5, 'SKE': 20, 'KED': 150, 'D M': 285, ' ME': 330, 'ME ': 715, 'E T': 1265, 'O W': 165, ' WR': 35, 'WRI': 25, 'RIT': 55, 'TE ': 410, 'E A': 1445, ' A ': 1920, 'D T': 1275, 'O D': 55, 'IDS': 25, 'DSB': 10, 'SBO': 10, 'BOO': 165, 'OOK': 345, 'OK.': 10, 'K. ': 74, '. A': 340, 'N I': 275, ' ID': 30, 'IDE': 225, 'DEA': 35, 'EAL': 105, 'AL ': 185, 'L F': 80, 'D C': 210, ' CA': 770, 'CAN': 295, 'ANN': 45, 'NNO': 30, 'NOT': 295, 'OT ': 405, 'T B': 280, ' BE': 935, 'BE ': 200, 'TOO': 195, 'OO ': 75, 'O B': 130, ' BR': 405, 'BRI': 190, 'RIE': 145, 'IEF': 5, 'EF ': 5, 'F S': 145, ' SH': 825, 'SHO': 415, 'HOU': 210, 'OUL': 295, 'ULD': 295, 'LD ': 450, 'D N': 95, 'NEV': 45, 'EVE': 420, 'VER': 925, 'R B': 230, 'HEN': 505, 'ENA': 15, 'NAT': 50, 'ATU': 65, 'TUR': 265, 'URE': 150, 'RE ': 1825, 'E O': 760, 'N A': 645, ' AP': 45, 'APO': 5, 'POL': 10, 'OLO': 140, 'LOG': 30, 'OGY': 5, 'GY ': 5, 'Y O': 305, ' OR': 540, 'OR ': 1285, 'R A': 475, 'A P': 110, ' PA': 275, 'PAN': 160, 'ANE': 25, 'NEG': 10, 'EGY': 5, 'GYR': 10, 'D I': 475, ' FA': 175, 'FAC': 100, 'ACT': 75, 'CT ': 40, 'T A': 780, 'ANY': 335, 'NY ': 330, 'Y D': 175, 'DIR': 20, 'IRE': 120, 'REC': 55, 'ECT': 160, 'T R': 145, ' RE': 410, 'REF': 15, 'EFE': 20, 'FER': 90, 'ERE': 1245, 'REN': 105, 'ENC': 15, 'NCE': 145, 'CET': 10, 'ETO': 45, 'O T': 585, 'E S': 1430, ' SU': 250, 'SUB': 20, 'UBJ': 10, 'BJE': 20, 'JEC': 20, 'T O': 670, 'F T': 780, 'E V': 125, 'VOL': 75, 'OLU': 25, 'LUM': 25, 'UME': 20, 'N W': 350, ' WH': 1015, 'WHI': 575, 'HIC': 380, 'ICH': 385, 'CH ': 680, ' IT': 815, 'IT ': 820, 'T I': 545, 'IS ': 1205, 'S P': 100, 'NTE': 140, 'S I': 405, 'E N': 355, ' NA': 105, 'OFR': 10, 'FRE': 85, 'RED': 390, 'EDU': 10, 'DUN': 15, 'UND': 610, 'NDA': 50, 'DAN': 35, 'ANC': 90, 'NCY': 5, 'CY.': 5, 'Y. ': 110, '. I': 310, 'ITS': 95, 'TS ': 390, ' ON': 1410, 'ONL': 110, 'NLY': 135, 'LY ': 740, 'Y U': 70, ' US': 145, 'USE': 215, 'SE ': 415, 'FAR': 45, 'AR ': 225, ' I ': 555, 'I C': 70, 'N S': 225, 'SEE': 320, 'EE ': 305, 'A C': 195, ' CH': 155, 'CHA': 115, 'HAN': 165, 'CE ': 320, 'O E': 35, ' EX': 110, 'EXP': 60, 'XPL': 20, 'PLO': 20, 'LOI': 5, 'OIT': 5, 'TSO': 10, 'SOM': 325, 'OME': 435, 'EA ': 230, 'A O': 15, 'E F': 600, 'RDS': 265, 'DS ': 450, ' AU': 15, 'AUT': 70, 'UTH': 80, 'THO': 160, 'HOR': 320, 'R W': 190, 'H H': 130, ' HE': 735, 'E C': 750, 'FIN': 155, 'IND': 205, 'NO ': 70, 'O O': 145, ' OP': 45, 'OPP': 50, 'PPO': 20, 'POR': 40, 'ORT': 200, 'RTU': 15, 'TUN': 50, 'ITY': 90, 'TY ': 280, 'Y T': 395, 'TOP': 100, 'OPR': 5, 'NT ': 545, 'T E': 60, ' EL': 40, 'ELS': 60, 'LSE': 25, 'SEW': 10, 'EWH': 20, 'WHE': 325, 'HER': 1220, 'RE.': 155, 'E.P': 10, '.PR': 5, 'PRA': 30, 'RAG': 35, 'AGM': 5, 'GMA': 10, 'MAT': 55, 'TIS': 65, 'ISM': 5, 'SM ': 5, 'M A': 215, ' AL': 785, 'ALO': 215, 'ONE': 780, 'NE ': 715, 'E W': 1145, ' WA': 1260, 'WAS': 645, 'S T': 640, 'STI': 140, 'TIM': 305, 'IMU': 5, 'MUL': 5, 'ULU': 5, 'US ': 315, 'F M': 35, ' MY': 160, 'MY ': 135, 'Y S': 310, 'SUG': 5, 'UGG': 5, 'GGE': 55, 'GES': 50, 'EST': 370, 'THA': 335, 'HAT': 335, 'AT ': 1035, 'ELE': 50, 'LEV': 25, 'VEN': 175, 'ENY': 15, 'NYE': 5, 'YEA': 60, 'EAR': 405, 'ARO': 205, 'ROL': 30, 'OLD': 235, 'LDD': 5, 'DDA': 10, 'M G': 10, 'GO ': 130, 'N O': 245, 'E L': 435, ' LE': 280, 'LEG': 50, 'EG ': 25, ' AR': 675, 'ARC': 85, 'RCT': 65, 'CTU': 135, 'URU': 65, 'RUS': 85, 'S E': 140, 'XPE': 40, 'PED': 150, 'EDI': 60, 'DIT': 50, 'ITI': 100, 'ONA': 20, 'NA ': 50, ' SQ': 50, 'SQU': 65, 'QUE': 45, 'UEE': 40, 'EER': 45, 'ERS': 335, 'RSI': 30, 'SIA': 25, 'IAN': 60, ' AC': 95, 'ACI': 25, 'CID': 10, 'IDT': 5, 'DTE': 5, 'SOR': 35, 'RTS': 25, 'TS.': 45, 'S. ': 455, 'ALS': 95, 'LSO': 65, 'SO ': 335, 'O A': 120, 'SEL': 95, 'ELF': 65, 'LFI': 10, 'FIS': 465, 'ISH': 605, 'SH ': 505, 'H D': 50, 'DES': 110, 'ESI': 30, 'SIR': 5, 'O S': 200, 'E H': 450, ' HO': 315, 'HOW': 75, 'OW ': 230, 'W M': 55, 'Y B': 240, ' BL': 265, 'BLA': 145, 'LAS': 105, ' EN': 220, 'ENT': 620, 'NTH': 105, 'THU': 5, 'HUS': 15, 'USI': 20, 'IAS': 5, 'ASM': 20, 'SMS': 5, 'MSH': 5, 'SHA': 155, 'HAD': 465, 'AD ': 565, 'ANG': 170, 'NGE': 120, 'GED': 50, ' SI': 280, 'SIN': 75, 'INC': 65, 'I T': 65, 'THR': 225, 'HRI': 45, 'RIL': 20, 'LLE': 200, 'LED': 205, 'D A': 820, ' AT': 575, 'T M': 150, 'Y F': 220, 'PAL': 20, 'ALM': 80, 'LM ': 20, 'M T': 220, ' TR': 285, 'TRE': 175, 'REE': 305, 'STD': 10, 'TDO': 5, 'DOL': 15, 'OLP': 15, 'LPH': 15, 'PHI': 20, 'HIN': 400, 'IN.': 50, 'N.I': 20, '.I ': 45, 'I W': 105, 'WAN': 55, 'ANT': 155, ' IM': 25, 'IMM': 100, 'MME': 60, 'MED': 75, 'DIA': 30, 'IAT': 15, 'E R': 315, 'ESU': 25, 'SUL': 10, 'ULT': 25, 'LT ': 55, 'A T': 155, ' TE': 170, 'EMP': 40, 'MPO': 20, 'RAR': 20, 'ARY': 15, 'RY ': 515, 'SHI': 330, 'HIF': 10, 'FT ': 130, 'M S': 60, ' SC': 130, 'SCH': 35, 'CHO': 50, 'HOO': 105, 'OOL': 105, 'OLT': 20, 'LTO': 15, ' SK': 75, 'SKY': 20, 'KYL': 5, 'YLI': 20, 'INE': 250, 'M B': 115, ' BO': 505, 'OKS': 25, 'KS ': 250, 'OOB': 60, 'OBI': 60, 'BIE': 65, 'IES': 165, 'UTT': 40, 'TTI': 80, 'F V': 20, 'OLC': 65, 'LCA': 65, 'ANO': 190, 'NOE': 20, 'NTO': 170, 'TOV': 10, 'OVA': 5, 'VAC': 5, 'ACA': 5, 'CAT': 75, 'D O': 495, ' WO': 210, 'RKI': 20, 'KIN': 250, ' OU': 490, 'OUT': 705, 'UT ': 845, 'UBL': 10, 'BLI': 30, 'LIM': 110, 'IMA': 30, 'D H': 310, 'OKY': 5, 'KY.': 10, '. O': 105, 'HEI': 135, 'EIM': 5, ' PE': 180, 'RSO': 15, 'NAL': 45, 'L R': 35, 'REA': 455, 'EAC': 235, 'CTI': 85, 'BET': 75, 'ETW': 15, 'TWE': 70, 'WEE': 60, 'EEN': 320, 'EN ': 1060, 'MYS': 40, 'YSE': 55, 'LF ': 120, 'UR ': 210, 'R G': 25, 'GOR': 20, 'EOU': 10, 'OUS': 150, 'SEN': 30, 'ENV': 5, 'NVI': 5, 'VIR': 5, 'IRO': 40, 'RON': 155, 'ONM': 5, 'NME': 10, 'MEN': 235, ' SP': 240, 'SPE': 170, 'PEA': 60, 'EAK': 95, 'AK ': 40, 'K O': 110, 'Y W': 290, 'H S': 150, 'SHE': 230, 'HEE': 25, 'R E': 90, 'ENJ': 5, 'NJO': 5, 'JOY': 5, 'OYM': 5, 'YME': 10, 'NT.': 25, 'T. ': 205, '. N': 15, 'NEI': 10, 'EIT': 10, 'R O': 190, 'F U': 35, ' EV': 220, 'ERT': 65, 'RTI': 25, 'TIR': 40, 'F E': 25, 'EXE': 15, 'XEL': 5, 'LEU': 5, 'EUT': 5, 'ERO': 80, 'ROS': 140, 'OST': 255, 'STO': 120, 'TOM': 105, 'OMI': 65, 'MIZ': 5, 'IZI': 5, 'ZIN': 15, 'G A': 420, 'ERY': 415, 'Y N': 40, 'W T': 110, 'LL.': 15, 'L.A': 5, '.AS': 10, 'SIF': 10, 'FTI': 10, 'ALL': 870, 'LL ': 890, 'L T': 200, 'HES': 350, 'ESE': 195, 'IMP': 50, 'MPR': 5, 'SSI': 60, 'SIO': 10, 'EIR': 125, 'IR ': 155, 'R R': 60, 'ECL': 5, 'CLO': 100, 'LOT': 95, 'OTH': 415, 'G I': 135, 'DSA': 30, 'SAN': 90, 'PHR': 5, 'HRA': 5, 'RAS': 40, 'ASE': 40, 'SES': 85, 'I A': 20, 'M L': 25, 'LOO': 200, 'OKI': 35, 'G F': 95, 'ORW': 25, 'RWA': 35, 'WAR': 70, 'ARD': 315, 'D W': 440, 'H K': 10, ' KE': 80, 'KEE': 50, 'TER': 875, 'T T': 790, 'O R': 55, 'EAD': 190, 'ADI': 30, 'DIN': 150, 'G D': 70, 'OK ': 205, 'K W': 100, 'PUB': 5, 'LIS': 45, 'HED': 125, 'WHA': 70, 'T H': 270, 'BEE': 130, 'N G': 50, ' GA': 145, 'GAI': 90, 'AIN': 305, 'NED': 120, 'R L': 125, 'LOS': 110, 'HIS': 545, 'E M': 435, ' MO': 565, 'MOS': 170, 'T S': 385, 'SEV': 95, 'STS': 70, 'A H': 160, ' HU': 210, 'HUM': 5, 'UMA': 5, 'N M': 140, ' MI': 170, 'MIN': 165, 'ND.': 60, 'D. ': 185, '.  ': 34, 'WIL': 175, 'LLI': 85, 'LIA': 35, 'IAM': 50, 'EEB': 30, 'EBE': 55, 'STE': 200, 'TEA': 50, 'EAM': 70, 'M Y': 5, ' YA': 10, 'YAC': 5, 'ACH': 245, 'CHT': 10, 'US.': 35, 'S.C': 10, '.CO': 20, 'ONT': 150, 'TEN': 120, 'NTS': 35, '  P': 20, 'PAG': 55, 'AGE': 55, 'E  ': 70, ' WE': 1430, 'WE ': 730, 'TAR': 105, 'ART': 160, 'RT ': 135, 'R C': 115, ' CR': 305, 'CRU': 80, 'RUI': 60, 'UIS': 55, 'ISE': 95, 'E G': 295, 'GAL': 55, 'ALP': 55, 'LPA': 55, 'AGO': 80, 'GOS': 45, 'OS ': 85, 'ISL': 285, 'SLA': 295, 'LAN': 465, 'NDS': 230, 'TOW': 80, 'OWE': 185, 'WER': 500, 'R I': 215, 'A D': 75, 'DAY': 300, 'AY ': 600, 'Y A': 405, 'ASH': 125, 'E D': 465, 'DIV': 55, 'IVI': 55, 'VIN': 135, 'G H': 60, 'HEL': 135, 'ELM': 35, 'LME': 40, 'MET': 180, 'ET ': 395, 'HIP': 255, 'IPW': 10, 'PWR': 10, 'WRE': 20, 'ECK': 110, '  H': 15, 'OOD': 120, 'OD ': 95, 'IPB': 25, 'PBO': 10, 'BOA': 205, 'OAR': 90, ' DR': 175, 'DRE': 145, 'EDG': 85, 'DGI': 15, 'ANA': 140, 'AMA': 110, 'COC': 60, 'OCO': 60, 'COS': 75, 'MAY': 45, 'H  ': 15, 'EEK': 25, 'EKS': 25, 'SEA': 300, ' TA': 255, 'TAG': 30, 'AGU': 30, 'GUS': 30, 'S C': 235, 'COV': 95, 'VE ': 450, ' GI': 70, 'GIA': 15, 'T D': 180, 'DEV': 25, 'EVI': 45, 'VIL': 30, 'IL ': 80, 'MOL': 15, 'LTE': 25, 'N L': 55, ' LA': 400, 'LAV': 105, 'AVA': 110, 'VA ': 90, 'ONG': 450, 'G T': 350, 'VIE': 55, 'IE ': 75, '  I': 35, 'CIN': 15, 'G P': 55, 'I L': 40, ' LI': 830, 'LIF': 90, 'FTE': 240, 'A F': 190, 'FRI': 95, 'IGA': 75, 'GAT': 80, 'E B': 1010, 'BIR': 255, 'OFF': 150, 'FF ': 180, 'F H': 65, ' HI': 620, 'S N': 90, 'NES': 265, 'ISP': 10, 'SPI': 25, 'PIE': 45, 'IEC': 45, 'ECE': 50, '  U': 5, 'A N': 35, 'NET': 190, 'OOM': 70, 'ALB': 65, 'LBA': 25, 'BAT': 40, 'ATR': 30, 'TRO': 95, 'OSS': 150, 'PUL': 70, 'ULP': 30, 'LPI': 25, 'PIT': 25, 'BOW': 25, 'W  ': 5, 'LIZ': 55, 'IZA': 45, 'ZAR': 45, 'BIT': 55, ' IF': 90, 'IF ': 75, 'HEY': 580, 'GET': 165, 'ARE': 505, 'UNB': 20, 'NBE': 5, 'ELI': 95, 'LIE': 75, 'IEV': 30, 'EVA': 20, 'VAB': 5, 'ABL': 95, 'BLY': 75, 'TAM': 25, 'A R': 160, ' RO': 410, 'ROC': 260, 'CK ': 445, 'K P': 10, ' PO': 240, 'POO': 120, 'OL ': 40, 'L A': 110, 'DAR': 90, 'ARW': 25, 'RWI': 35, 'WIN': 160, 'N B': 180, ' BA': 385, 'BAY': 90, 'T V': 10, ' VI': 30, 'IEW': 15, 'W O': 35, 'LBE': 25, 'BEM': 25, 'EMA': 40, 'MAR': 65, 'ARL': 135, 'RLE': 45, 'LE ': 840, 'TAN': 100, 'NDI': 130, 'HAR': 290, 'ARK': 190, 'K C': 35, 'CAG': 20, 'INS': 155, ' PI': 235, 'PIR': 100, 'IRA': 95, 'KET': 20, 'ETC': 5, 'TCH': 125, '  E': 10, 'EXA': 20, 'XAM': 10, 'AMI': 30, 'INI': 25, 'NIN': 200, 'HAU': 55, 'AUL': 55, 'UL ': 125, 'L  ': 15, '  O': 15, 'PIN': 90, 'INK': 120, 'NKI': 20, 'KIE': 5, 'PEN': 80, 'ENG': 105, 'NGU': 35, 'GUI': 40, 'UIN': 50, 'NSP': 15, 'PEC': 135, 'DEE': 110, 'EEP': 220, 'EPS': 15, 'PSE': 10, 'T C': 175, 'ATH': 160, 'HAM': 40, 'Y C': 185, 'IRT': 80, 'THD': 40, 'HDA': 40, 'PAR': 120, 'RTY': 80, 'CAR': 75, 'H F': 85, ' FU': 135, 'FUR': 25, 'URY': 15, 'FAM': 25, 'AMO': 35, 'MOU': 120, ' CU': 110, 'CUT': 40, 'UTL': 25, 'TLA': 30, 'ASS': 135, 'CHI': 85, 'IRI': 20, 'RIQ': 15, 'IQU': 20, 'QUI': 140, 'UI ': 10, 'I D': 35, ' DY': 25, 'DYN': 25, 'YNA': 25, 'DOG': 15, 'OGH': 10, 'GHO': 10, '  R': 5, 'LEF': 75, 'EFT': 75, ' RI': 275, 'BOZ': 5, 'OZO': 5, 'ZO ': 5, '  Y': 10, 'YOU': 175, 'OUN': 495, 'UNG': 50, 'ALI': 65, 'LIO': 55, 'POU': 75, ' TU': 115, 'UNA': 15, 'FOO': 70, 'OOT': 60, 'ILF': 5, 'H O': 150, 'NGM': 10, 'GMR': 5, '. B': 75, 'LET': 95, 'ETS': 110, 'S M': 175, 'CAL': 145, 'L H': 75, 'HIM': 220, 'IM ': 205, 'M U': 15, 'UNC': 125, 'NCL': 85, 'CLE': 135, 'L E': 30, 'HEA': 185, 'ISB': 10, 'SBI': 10, 'BIG': 250, 'IG ': 240, 'G E': 25, 'ON.': 85, 'N. ': 150, '. H': 145, ' AW': 110, 'AWF': 50, 'WFU': 40, 'FUL': 190, 'ULL': 205, 'LLY': 185, ' NI': 130, 'ICE': 65, 'O L': 105, 'N P': 100, 'F I': 60, 'IT.': 75, 'T.I': 20, 'I H': 55, ' TW': 335, 'WEL': 55, 'LFT': 5, 'H B': 85, 'S D': 140, 'DOW': 295, 'OWN': 355, 'WN ': 290, 'E E': 265, ' EQ': 45, 'EQU': 50, 'QUA': 100, 'UAT': 35, 'ATO': 70, 'TOR': 190, 'OR.': 35, ' IK': 5, 'IKN': 5, 'KNO': 60, 'NOW': 80, 'W H': 60, 'W L': 15, ' LU': 35, 'LUC': 25, 'UCK': 65, 'CKY': 40, 'KY ': 50, 'TAK': 110, 'AKE': 250, 'KEN': 35, 'NG.': 125, 'T W': 490, 'S G': 105, 'GRE': 250, 'EAT': 295, 'FUN': 75, 'UN.': 15, 'NK ': 125, 'K I': 75, 'ILE': 245, 'LEA': 150, 'ARN': 30, 'RNE': 75, 'A L': 345, 'OUG': 325, 'UGH': 380, 'GH ': 240, 'ERH': 40, 'RHA': 30, 'HAP': 55, 'APS': 25, 'PS ': 110, 'HUR': 35, 'L W': 65, 'K B': 50, 'BEI': 30, 'EIN': 60, 'AWA': 65, 'WAY': 300, 'AYA': 15, 'YAN': 10, 'D E': 110, 'RYT': 15, 'YTH': 55, 'NYW': 30, 'YWA': 25, 'Y M': 100, 'MOT': 110, 'I J': 15, ' JO': 45, 'JOI': 5, 'OIN': 100, 'USU': 20, 'SUN': 75, 'LLS': 150, 'LSS': 15, 'SSH': 25, 'IPA': 5, 'PAT': 15, 'MA.': 20, 'A. ': 70, '. W': 175, 'T N': 140, 'NEA': 230, 'RLY': 90, 'HRE': 130, 'MON': 65, 'THS': 40, 'PAC': 30, 'CIF': 15, 'IFI': 45, 'FIC': 45, 'IC ': 50, 'C O': 15, 'OCE': 60, 'CEA': 65, 'EAN': 110, 'ANS': 45, 'NST': 50, 'STU': 80, 'TUD': 20, 'UDY': 15, 'DYI': 5, 'YIN': 60, 'IFE': 30, 'FE ': 25, 'D V': 25, 'VIS': 10, 'ISI': 35, 'SIT': 50, 'N U': 55, 'INH': 15, 'NHA': 5, 'HAB': 10, 'ABI': 40, 'SER': 110, 'DS.': 80, ' IP': 5, 'IPR': 5, 'PRO': 95, 'MIS': 25, 'SED': 110, 'DAD': 15, 'LIT': 310, 'ITT': 370, 'TTL': 340, 'TLE': 410, 'ORY': 55, ' AB': 235, 'ABO': 250, 'BOU': 210, 'L. ': 20, 'TOL': 35, 'TRY': 40, 'TOT': 45, 'OTE': 40, 'TEL': 35, 'ELL': 165, 'DID': 60, 'I S': 50, ' SA': 435, 'SAW': 175, 'AW ': 165, 'W J': 5, ' JU': 165, 'JUS': 140, 'T L': 200, 'LIK': 290, 'IKE': 290, 'KE ': 445, ' FE': 300, 'FEL': 40, 'LLO': 95, 'LOW': 295, 'OWS': 60, 'WS ': 55, ' EA': 145, ' OT': 135, 'ERA': 80, 'RAB': 35, ' AD': 25, 'ADV': 15, 'DVE': 25, 'NTU': 20, 'ES.': 180, '. T': 525, 'ATS': 70, 'RET': 90, 'ETT': 170, 'TTY': 85, 'Y H': 195, 'DO.': 5, 'O.T': 5, '.TH': 320, 'I G': 30, 'GOT': 80, 'BAC': 170, 'ACK': 380, 'K T': 140, 'Y L': 175, 'MAK': 80, 'S L': 200, 'F W': 75, ' IW': 5, 'IWR': 5, 'WRO': 5, 'ROT': 35, 'OAT': 170, 'AT.': 35, 'MEA': 60, 'BOY': 20, 'OYS': 10, 'YS ': 135, 'GIR': 10, 'IRL': 20, 'RLS': 10, 'LS.': 65, '. M': 50, 'RHE': 5, 'ELP': 40, 'LPE': 20, 'FIX': 10, 'IX ': 55, 'X U': 5, ' UP': 420, 'UP ': 355, 'P T': 135, 'PEL': 40, 'RAM': 20, 'AMM': 20, 'MMA': 5, 'HT.': 30, 'T.T': 30, 'K Q': 5, ' QU': 120, 'UIT': 70, ' TI': 315, 'IME': 355, 'URA': 15, 'RAL': 80, 'IST': 160, 'STW': 15, 'TWO': 290, 'WOU': 105, 'MOR': 215, 'UN ': 85, 'A W': 140, 'ER.': 185, 'ORI': 35, 'S H': 280, 'LP ': 20, 'P M': 10, 'REM': 30, 'EME': 95, 'MEM': 20, 'R T': 755, 'W I': 30, 'COU': 235, 'HAV': 225, 'AVE': 300, 'VEB': 10, ' MU': 120, 'MUC': 55, 'UCH': 100, 'TTE': 115, 'R.W': 25, '.WE': 55, 'ARR': 50, 'RRI': 110, 'RIV': 40, 'IVE': 230, 'VED': 40, 'N C': 75, 'COL': 205, 'M N': 10, 'VAN': 30, 'A E': 5, 'ORN': 125, 'RNI': 95, 'OFM': 5, 'FMA': 5, 'RCH': 15, 'H T': 320, 'H A': 310, ' AF': 200, 'AFT': 185, 'CAP': 70, 'APT': 80, 'PT.': 5, '. L': 30, 'K U': 10, 'N H': 255, ' OW': 5, 'WNL': 5, 'NLA': 10, 'LAU': 15, 'AUN': 15, 'NCH': 105, ' OV': 270, 'USA': 10, 'SA ': 15, 'HIG': 115, 'H W': 235, 'HIT': 135, 'IP ': 180, 'P W': 40, ' LY': 15, 'LYI': 30, 'ACR': 80, 'CRO': 140, 'SST': 25, 'STH': 35, 'ARB': 60, 'BOR': 65, 'R.T': 15, 'TRI': 140, 'RIP': 85, 'P I': 85, 'D F': 265, 'SAI': 110, 'AIL': 160, 'ILO': 20, 'LOR': 110, 'ORS': 90, 'RS ': 390, 'S U': 85, 'A G': 105, ' GU': 70, 'UID': 40, 'IDI': 5, 'ILI': 55, 'EAS': 140, 'AS.': 10, '. S': 135, 'FIT': 50, 'WHO': 185, 'HO ': 85, 'RKZ': 5, 'KZO': 5, 'ZOO': 30, 'OGI': 15, 'GIC': 15, 'L S': 75, 'SOC': 15, 'OCI': 10, 'CIE': 50, 'IET': 15, 'ETY': 20, 'WON': 35, 'NDE': 215, 'DER': 250, 'ERF': 95, 'RFU': 35, 'L Z': 5, ' ZO': 25, 'O I': 105, 'BRO': 165, 'ONX': 10, 'NX.': 10, 'X. ': 15, 'LIV': 60, 'ANI': 60, 'NIM': 20, 'MAL': 230, 'LS ': 195, 'OLL': 90, 'LEC': 60, 'CTE': 30, 'E Z': 10, 'SSE': 80, ' FL': 145, 'FLI': 50, 'LIG': 90, 'HTL': 20, 'LES': 225, 'SSC': 5, 'SCO': 70, 'ORM': 30, 'RMO': 20, 'A V': 40, ' VE': 255, 'Y R': 80, ' RA': 190, 'NS.': 35, 'NYS': 10, 'YSP': 5, 'ECI': 90, 'CIM': 55, 'ENS': 45, 'S W': 495, 'O G': 135, 'MUS': 60, 'SEU': 15, 'EUM': 15, 'UM ': 45, 'M O': 95, 'F N': 35, 'SHT': 15, 'HTO': 25, ' AQ': 20, 'AQU': 20, 'UAR': 45, 'ARI': 35, 'RIU': 15, 'IUM': 15, 'ATT': 80, 'RY.': 10, 'HOL': 150, 'UTF': 35, 'TFI': 30, 'ASC': 25, 'SCI': 30, 'IEN': 45, 'TIF': 90, 'C E': 10, 'SIG': 30, 'OKE': 155, 'REI': 5, 'EIG': 90, 'HTE': 40, 'R H': 190, 'GHS': 10, 'HSI': 5, 'SID': 155, 'DED': 60, 'BUI': 35, 'UIL': 35, 'ILT': 25, 'ARG': 25, 'RGO': 10, 'H M': 60, 'OMS': 40, 'CAB': 55, 'BLE': 160, 'UIP': 15, 'IPM': 5, 'PME': 5, 'ORH': 10, 'RHO': 10, 'HOI': 10, 'OIS': 50, 'MOV': 40, 'OVI': 30, 'NGS': 180, 'GS.': 40, 'S.T': 90, 'WO ': 245, 'LAB': 20, 'EDW': 15, 'BOT': 105, 'OTT': 135, 'MIC': 20, 'ICR': 10, 'OSC': 10, 'PES': 75, 'MOD': 5, 'ODE': 20, 'DEL': 5, 'G C': 50, ' CL': 260, 'CLA': 10, 'LAY': 35, 'F G': 50, ' GL': 65, 'GLA': 50, 'S J': 45, ' JA': 30, 'JAR': 20, 'ARS': 85, 'O P': 80, 'ERV': 30, 'RVE': 30, 'UPP': 45, 'PPE': 115, 'ROO': 55, 'M I': 45, 'LIB': 5, 'IBR': 5, 'BRA': 15, 'RYW': 5, 'YWI': 5, 'H R': 55, 'TEX': 5, 'EXT': 75, 'XT ': 70, 'CTS': 20, 'NOG': 5, 'PHY': 5, 'HYF': 5, 'YFO': 20, 'N E': 65, 'STL': 60, 'TLY': 90, 'DY ': 110, 'A A': 85, 'GEC': 5, 'ECR': 10, 'CRE': 95, 'CHE': 150, 'HEM': 340, 'EMI': 30, 'L L': 30, 'BLO': 50, 'ODO': 5, 'DOF': 10, 'F F': 85, 'ED.': 95, 'D.T': 40, 'RID': 30, 'IDG': 30, 'DGE': 100, 'R M': 130, 'MAI': 10, 'T U': 195, 'P O': 90, 'FIV': 65, 'CKS': 215, 'NDT': 60, 'DTH': 50, 'E. ': 290, 'EWS': 5, ' SL': 105, 'SLE': 45, 'LEE': 35, 'EPI': 20, 'NGQ': 5, 'GQU': 5, 'RTE': 80, 'P A': 145, 'VEH': 10, 'EHA': 35, 'MMO': 5, 'MOC': 25, 'HUN': 120, 'G U': 60, 'P U': 10, 'AWN': 15, 'WNI': 20, 'EP ': 165, 'NIG': 105, 'ROU': 470, 'ME.': 55, 'E.O': 25, '.ON': 65, 'CIA': 25, 'IAL': 25, 'L B': 105, 'T G': 70, 'DE.': 40, 'IPS': 70, 'NSR': 5, 'SRI': 10, '. Y': 15, 'OU ': 110, 'U N': 5, 'R S': 275, 'SAY': 30, 'R F': 165, 'BUT': 230, 'RD.': 40, 'RAI': 125, 'GS ': 225, 'TIE': 35, 'IED': 130, 'TTO': 100, ' PL': 175, 'PLA': 205, 'K S': 40, 'WAL': 100, 'ALK': 55, 'LK ': 20, 'TTH': 55, 'L I': 85, 'N N': 35, 'ROP': 115, 'PE ': 80, 'LAD': 25, 'ADD': 30, 'DDE': 50, 'ETI': 80, 'MES': 170, 'ESW': 15, 'SWH': 25, 'P R': 30, 'END': 100, 'S R': 105, 'WAT': 350, 'TFR': 5, 'W A': 115, 'G W': 165, 'WIR': 30, 'GEL': 5, 'CHW': 10, 'HWE': 5, 'ARP': 70, 'RPO': 65, 'OON': 185, 'ONI': 20, 'ATC': 125, 'FLO': 80, 'LOA': 35, ' OB': 5, 'OBJ': 10, 'PAS': 45, 'SS.': 40, 'OGE': 30, 'T Y': 25, 'U C': 50, 'CLI': 160, 'IMB': 105, 'MB ': 40, 'B D': 25, 'GHI': 15, 'Y E': 40, 'EXC': 70, 'XCI': 45, 'CIT': 125, 'G.I': 15, '.IN': 55, 'HOP': 30, 'OPS': 15, 'ELO': 60, 'NGI': 70, 'BIL': 55, 'L M': 35, 'ERR': 85, 'RIA': 20, 'GEN': 25, 'ENE': 45, 'NER': 45, 'NDY': 20, 'ALW': 40, 'LWA': 45, 'AYS': 130, 'YSM': 5, 'SME': 10, 'APE': 25, 'W D': 10, 'UTS': 50, 'ROW': 150, 'OWB': 20, 'WBO': 20, 'KES': 50, 'LOB': 10, 'OBS': 10, 'BST': 10, 'POT': 25, 'IXE': 5, 'XES': 10, 'AWO': 5, 'RKS': 65, 'KSH': 5, 'OP ': 55, 'P F': 55, 'ERG': 40, 'TAX': 25, 'AXI': 25, 'XID': 15, 'RMI': 20, 'ESC': 35, 'SCU': 30, 'CUL': 15, 'LPT': 5, 'PTO': 5, '. D': 40, 'WAX': 5, 'AX ': 5, 'X M': 15, 'LDS': 20, 'AST': 160, 'CAS': 25, 'DPR': 5, 'VES': 130, 'EM ': 225, 'AKI': 35, 'DRA': 45, 'RAW': 80, 'AWI': 20, 'PAI': 30, 'S.I': 35, '.IS': 5, 'C A': 5, 'ST.': 45, 'REX': 5, 'L P': 45, 'PIC': 50, 'ICT': 35, 'P S': 60, 'RTW': 15, 'O H': 155, 'NDR': 85, 'SH.': 40, 'H.T': 10, 'HUG': 85, 'UGE': 85, 'MIL': 110, 'ULI': 15, 'AWL': 50, 'WLS': 10, 'ELD': 20, 'HIL': 125, 'ESH': 75, 'P G': 10, 'SLO': 65, 'OWL': 35, 'WLY': 30, 'HAL': 115, 'ALF': 75, 'PEE': 10, 'EED': 30, 'SMU': 5, 'OFT': 65, 'A I': 35, 'A M': 90, 'P B': 35, 'W U': 10, 'TYE': 10, 'YEI': 10, ' EI': 20, 'TEE': 115, 'EEX': 25, '. E': 40, 'H N': 15, 'SUR': 155, 'URF': 95, 'RFA': 100, 'ACE': 235, 'CEH': 5, 'SOU': 80, 'CUR': 65, 'URI': 75, 'RIO': 40, 'IOU': 35, 'EWE': 15, 'WEI': 50, ' IR': 25, 'ORC': 20, 'RCE': 20, 'CES': 95, 'SAM': 50, 'AMP': 45, 'MPL': 35, 'PLE': 85, 'MUD': 20, 'UDD': 45, 'DDY': 15, 'DY.': 5, 'UTO': 10, 'OMA': 15, 'TIC': 55, 'DRO': 25, 'PSO': 10, 'SOF': 35, 'BEC': 100, 'ECA': 120, 'CAU': 145, 'AUS': 100, 'ISN': 15, 'SNT': 10, 'ENO': 60, 'NOU': 75, 'UP.': 30, 'P.A': 5, '.AF': 15, 'ULE': 5, 'TSP': 10, 'SPU': 15, 'TUB': 15, 'UBS': 25, 'BS ': 60, 'SSF': 5, 'SFU': 5, 'L O': 175, 'INY': 40, 'DEP': 25, 'PTH': 30, 'F O': 55, 'RA ': 10, 'O M': 90, 'S.O': 30, 'M M': 10, 'DR.': 15, ' W.': 5, 'W. ': 30, '. K': 5, ' K.': 5, 'REG': 30, 'EGO': 20, 'UMO': 5, 'MOF': 5, 'ROF': 20, 'OFE': 10, 'FES': 10, 'SSO': 25, 'F C': 80, 'COM': 170, 'OMP': 20, 'MPA': 20, 'ARA': 20, 'TIV': 25, 'OMY': 5, 'TCO': 10, 'UMB': 70, 'MBI': 40, 'BIA': 10, 'IA.': 10, 'K F': 40, 'ATW': 5, 'ELV': 65, 'LVE': 95, 'VEY': 5, 'EYE': 35, 'OY ': 15, 'BUN': 20, 'UNK': 25, 'M E': 20, 'RYO': 20, 'YON': 60, 'M J': 5, 'NDL': 40, 'DLI': 10, 'O N': 40, 'ISW': 5, 'SWO': 25, 'RK.': 40, 'K G': 25, 'D R': 115, 'DIS': 105, 'ISS': 30, 'DO ': 45, 'LMO': 60, 'NYT': 15, 'I K': 15, 'D J': 45, 'EMM': 5, 'MMY': 5, 'NEX': 80, ' SM': 250, 'SMO': 60, 'MOK': 60, 'TAC': 55, 'WEN': 215, 'OT.': 10, 'XCE': 25, 'CEP': 25, 'PT ': 60, 'ITR': 5, 'LEP': 10, 'CK.': 65, '. R': 5, 'ALT': 55, 'LTH': 40, 'NTY': 40, 'TYO': 10, 'EA.': 25, 'OTS': 35, 'ESR': 10, 'OMF': 5, 'MFO': 5, 'RTA': 35, 'TAB': 10, 'WEA': 25, 'ASW': 10, 'SWE': 25, 'SEF': 5, 'EFO': 95, 'IVA': 15, 'VAL': 10, 'WAI': 20, 'AIT': 35, 'ETH': 95, 'W S': 50, 'COA': 35, 'OAL': 10, 'NKE': 30, 'GSO': 5, 'FEA': 15, 'E.A': 30, '.AN': 50, 'OWD': 25, 'WD ': 5, 'EEI': 10, ' CI': 85, 'ATL': 15, 'NTR': 35, 'HEP': 25, 'EPA': 10, ' RU': 65, 'USS': 10, 'LEB': 15, 'BEA': 235, 'AY.': 90, 'K N': 10, 'H U': 20, 'O C': 125, 'MEW': 5, 'RFL': 15, 'L V': 15, 'BLU': 60, 'LUE': 50, 'UE ': 55, 'UNU': 15, 'NUS': 15, 'SUA': 15, 'UAL': 40, 'LSH': 5, 'S.N': 10, '.NE': 25, 'HRO': 95, 'LOC': 60, 'GHE': 55, 'KSG': 5, 'SGA': 10, 'PIL': 20, 'LLW': 10, 'H E': 25, ' EM': 20, 'MPT': 20, 'PTI': 60, 'LAK': 50, 'KE.': 40, 'ONC': 75, 'NCR': 5, 'ETE': 45, 'LER': 80, 'ILR': 5, 'LRO': 5, 'ROA': 15, 'OAD': 15, 'D U': 95, 'EEM': 70, 'SIM': 10, 'TOY': 10, 'RDL': 15, 'DLY': 25, 'GH.': 15, 'H. ': 65, '. F': 40, 'HEW': 55, 'URN': 80, 'RNS': 30, 'DLE': 55, 'KSO': 5, 'SOP': 5, 'FIL': 10, 'SET': 50, 'UPO': 15, 'PON': 20, 'VEL': 80, 'VEC': 5, 'COG': 10, 'OGG': 5, 'EEL': 60, 'RUN': 45, 'RAD': 10, 'RAC': 65, 'W G': 15, 'GAR': 15, 'ARF': 35, 'RFI': 35, 'H L': 75, ' EE': 15, 'GSH': 5, 'RP ': 15, 'AKS': 20, 'ADS': 40, 'LAC': 265, 'NGT': 40, 'GTH': 40, 'BAN': 25, 'W B': 25, 'COD': 5, 'ODI': 30, 'DIL': 15, 'ERN': 75, 'RNO': 25, 'NOO': 35, 'SPA': 50, 'NIA': 20, 'IAR': 20, ' OL': 100, 'ROY': 5, 'OYE': 10, 'YED': 40, 'NGL': 60, 'GLI': 20, 'EMO': 25, 'RGA': 15, 'GAN': 45, 'AN.': 25, 'ROV': 15, 'SIX': 75, 'LYR': 10, 'YRU': 5, 'EDR': 15, 'TIL': 80, 'N V': 5, 'TTA': 30, 'ESP': 35, 'THM': 15, 'HMU': 15, 'FEW': 75, 'EN.': 25, 'N.H': 5, '.HI': 5, 'ARV': 10, 'RN ': 55, 'ETA': 30, 'DET': 5, 'CHG': 5, 'HGO': 5, 'GOL': 30, ' JE': 25, 'JEW': 5, 'AFR': 25, 'AID': 45, 'DEF': 10, 'ENP': 5, 'NPL': 10, 'LAI': 5, 'TSI': 15, 'Y.I': 10, 'W C': 5, 'F P': 35, 'RIS': 55, 'ISO': 45, 'TON': 70, 'RIB': 55, 'IBL': 85, 'AMB': 20, 'RSE': 90, ' DU': 55, 'EON': 40, 'S K': 25, 'KEP': 25, 'RS.': 55, 'EDC': 20, 'DCH': 10, 'N.N': 5, 'CHB': 5, 'HBA': 5, 'BAL': 40, 'LBO': 15, 'OA ': 10, 'ISC': 40, 'BYN': 10, 'YNI': 5, 'PET': 30, 'WL ': 15, 'L N': 35, 'HTI': 35, 'SMA': 200, 'H .': 5, ' ..': 10, '...': 10, '.. ': 10, 'SAL': 30, 'Y K': 5, ' KI': 60, 'H.E': 5, '.EV': 15, 'RYB': 35, 'YBO': 35, 'BOD': 75, 'ODY': 55, 'GHM': 5, 'HMI': 5, 'ELY': 90, 'SAT': 15, 'DEN': 60, 'IFY': 10, 'FY ': 10, 'FYT': 5, 'EM.': 80, 'M. ': 75, 'SHL': 10, 'HLI': 10, 'E J': 20, 'JEL': 10, 'LYF': 5, 'YFI': 20, 'SHR': 40, 'RIM': 25, 'MPS': 30, 'AUG': 55, 'OFD': 10, 'FDI': 5, 'DIF': 50, 'IFF': 120, 'FFE': 55, 'H G': 30, 'ACO': 5, 'EDE': 5, 'P N': 10, ' AG': 95, 'AGA': 85, 'S Q': 15, 'UTM': 5, 'TMA': 10, 'EPO': 15, 'POW': 15, 'INU': 25, 'NUT': 30, 'UTE': 45, 'NGR': 20, 'GRY': 10, 'URR': 50, 'RRY': 55, 'D.O': 10, 'RGY': 5, 'YRO': 10, 'ECU': 10, 'CUS': 5, 'LOV': 65, 'SIL': 35, 'ILV': 25, 'EAU': 60, 'UTI': 60, 'IFU': 60, 'SPO': 30, 'RKL': 5, 'KLE': 25, 'LE.': 45, 'ROD': 5, 'VE.': 15, 'IGG': 35, 'GGL': 5, 'DIE': 45, 'R U': 20, 'SSU': 20, 'NDW': 10, 'DWH': 10, 'REL': 40, 'LOD': 10, 'NGW': 35, 'GWA': 25, 'RUT': 10, 'OSE': 105, 'DMY': 5, 'SUD': 25, 'CAM': 150, 'A K': 25, 'OFH': 10, 'FHA': 5, 'HAA': 5, 'AAA': 5, 'AA.': 5, 'BES': 50, 'ETR': 40, 'AB ': 15, 'B A': 10, 'NTA': 75, 'ACL': 25, 'EWA': 55, 'SIC': 15, 'CKL': 35, 'KLY': 20, 'H C': 40, 'INA': 25, 'LAT': 75, 'WEV': 15, 'LTI': 10, 'UIC': 10, 'BE.': 10, 'E.S': 5, '.SQ': 5, 'UIR': 5, 'NKY': 5, 'LIQ': 5, 'NEM': 5, 'MIE': 5, 'PIA': 10, 'IA ': 15, 'NK.': 5, 'K.F': 10, '.FO': 30, 'UNS': 25, 'NSE': 25, 'RYP': 5, 'YPH': 5, 'FTY': 5, 'TYS': 10, 'YSI': 5, 'IXI': 5, 'XIN': 5, 'LUI': 10, 'R Y': 15, ' YE': 90, 'YEL': 35, 'TAI': 145, 'L G': 45, 'NDB': 15, 'DBL': 10, 'DUR': 10, ' SW': 145, 'SWI': 105, 'WIM': 95, 'MMI': 50, 'FEE': 160, 'EET': 160, 'BEN': 15, 'G R': 60, 'ARU': 5, '. C': 10, 'CAD': 25, 'ADY': 25, 'DYA': 5, 'YAL': 10, 'D.I': 10, 'EAV': 95, 'AVY': 40, 'VY ': 35, 'SLI': 15, 'LIP': 35, 'IPP': 45, 'BEF': 75, 'DST': 15, 'RTO': 15, 'TOI': 15, 'N K': 5, 'D Y': 45, 'IXT': 20, 'XTY': 10, 'OCA': 15, 'X H': 10, 'EDM': 10, 'DMI': 5, 'OAS': 10, ' EC': 5, 'CUA': 5, 'UAD': 5, 'ADO': 15, 'DOR': 5, 'UNT': 90, 'REV': 15, 'EVO': 15, 'C I': 5, 'DRY': 25, 'DUS': 10, '. V': 5, 'CAC': 25, 'TUS': 30, 'SCR': 30, 'RUB': 15, 'UBB': 15, 'BBY': 10, 'BUS': 60, 'USH': 50, 'GRO': 75, 'M.O': 10, '.OU': 5, 'SEY': 20, 'EYM': 20, 'YMO': 20, 'APR': 10, 'TH.': 10, 'LLF': 10, 'LFL': 5, 'FLA': 20, 'EFA': 5, 'FAT': 45, 'TIG': 5, 'GAB': 15, 'GER': 45, 'EPE': 15, 'ERP': 10, 'RPA': 5, 'BAR': 50, 'NDV': 10, 'UNN': 65, 'NNI': 35, 'EMS': 40, 'MSE': 40, 'TOU': 25, 'OUC': 35, 'WAV': 30, 'F R': 25, 'EDD': 20, 'DDI': 25, 'N R': 45, 'FFS': 30, 'FS ': 25, ' ED': 25, 'DSG': 5, 'GUL': 55, 'LIC': 20, 'FLE': 15, 'LEW': 40, '.OF': 10, 'URS': 90, 'IDN': 25, 'DNT': 55, 'T K': 20, 'EWI': 25, 'MEO': 35, 'USY': 10, 'SY ': 20, 'LLM': 5, 'SOO': 45, 'KNE': 25, 'YNO': 5, 'EGI': 15, 'GIO': 5, 'N.A': 10, 'HOM': 55, 'RYI': 20, 'O K': 55, 'ESA': 30, 'GOO': 40, ' EG': 90, 'EGG': 100, 'GGS': 70, 'MP ': 35, 'ROB': 30, 'OBB': 15, 'BBE': 20, 'N Y': 30, 'WST': 5, 'GAV': 25, 'E.T': 65, 'G M': 20, 'ITW': 15, 'TWI': 55, 'UM.': 5, 'DRU': 20, 'RUM': 40, 'M F': 20, 'OMN': 5, 'MNE': 10, 'K H': 35, 'URL': 10, 'LEY': 10, 'OMC': 5, 'MCO': 5, 'LOM': 5, 'OMB': 15, 'MBO': 10, 'BO.': 5, 'O.U': 5, '.UN': 20, 'STP': 5, 'TPR': 5, 'BAD': 30, 'AD.': 25, 'D.W': 5, 'I M': 35, 'TSC': 5, 'PS.': 20, 'RLD': 20, 'LDU': 5, 'UNR': 5, 'NRU': 10, 'RUD': 10, 'UDT': 5, 'NAW': 5, 'CKH': 5, 'KHO': 5, 'PSS': 5, 'G L': 60, 'ENL': 25, 'OUP': 20, 'UPL': 5, 'SUM': 5, 'UMM': 5, 'F B': 75, 'DCO': 15, 'ONO': 30, 'NOL': 5, 'LOP': 40, 'OPH': 5, 'PHU': 5, 'E Q': 15, 'RGR': 5, 'F Y': 15, 'U P': 5, 'UPB': 5, 'PBY': 5, 'ILS': 15, 'H Y': 15, 'LLA': 20, 'LAR': 30, 'S Y': 5, 'OWI': 60, 'WIS': 35, 'K L': 30, 'F D': 35, 'GON': 25, 'EBL': 10, 'NTL': 40, 'HTH': 10, 'M.T': 20, 'R K': 15, 'F L': 30, 'EDH': 10, 'DHE': 20, 'DUL': 10, 'RAY': 100, 'O F': 70, 'W P': 25, 'PEO': 15, 'EOP': 15, 'OPL': 20, 'EYA': 5, 'YAR': 10, 'P V': 5, 'M.A': 10, 'ADL': 20, 'NBU': 10, 'BUR': 50, 'GOI': 50, 'LDE': 45, 'EDL': 5, 'EGS': 25, 'FEM': 5, 'ALE': 70, 'RTL': 25, 'AYB': 20, 'YBE': 30, 'S.S': 15, '.SE': 15, 'CH.': 25, 'WES': 30, 'P H': 30, 'M W': 55, 'EDS': 30, 'GG ': 15, 'ASO': 20, 'R.A': 15, '.AL': 35, 'W W': 30, '.TO': 5, 'DTO': 50, 'DSI': 5, 'BRE': 70, 'AKF': 25, 'KFA': 25, 'FAS': 45, 'ALR': 5, 'LRE': 5, 'TEC': 25, 'UTA': 10, 'RF ': 20, 'LDN': 35, 'NYB': 5, 'G B': 110, 'HID': 5, 'IDD': 30, 'BEH': 15, 'EHI': 20, 'EEF': 15, 'EF.': 5, 'F.W': 5, '.WH': 40, 'MAS': 25, 'S.M': 5, '.MA': 15, 'TAY': 25, 'AYE': 30, 'L D': 60, 'GGI': 5, 'S.W': 10, 'WEC': 15, 'FLY': 20, 'R J': 15, 'CE.': 50, 'RSA': 10, 'SAU': 5, 'LT.': 10, 'SUC': 25, 'UCC': 5, 'CCE': 5, 'TRU': 15, 'RUC': 10, 'NDN': 15, 'DNE': 15, 'DSO': 20, 'R N': 70, 'DOV': 25, 'EYS': 30, 'FIG': 15, 'IGS': 15, 'NDH': 15, 'L J': 25, 'URP': 20, 'RPR': 10, 'XTT': 5, 'I P': 5, 'ASN': 5, 'T Q': 15, 'OLI': 30, 'POS': 55, 'OSI': 25, 'GMU': 5, 'ID.': 5, 'SUP': 15, 'WHY': 10, 'HY ': 10, 'EG.': 5, 'ASB': 10, 'SBA': 5, 'HEF': 15, 'RME': 5, 'WEB': 10, 'EBB': 10, 'BED': 75, 'OTC': 10, 'TCA': 5, 'ASI': 30, 'ILY': 35, 'WOO': 10, 'P D': 15, 'DIP': 5, 'IMS': 25, 'ET.': 50, 'DSS': 5, 'DOU': 10, 'USL': 10, 'SLY': 10, 'SPR': 20, 'A Q': 15, 'NIS': 25, 'NEC': 15, 'ADU': 10, 'DUP': 10, 'EP.': 30, 'PUF': 5, 'UFF': 40, 'PTY': 10, 'TY.': 15, 'EAF': 10, 'AFI': 15, 'E Y': 30, 'OYB': 5, 'YBA': 10, 'NDF': 30, 'DFR': 10, 'ILD': 35, 'TTW': 10, 'DSE': 5, 'KS.': 85, 'CKI': 65, 'A J': 20, 'JUT': 10, 'FTT': 5, ' EY': 25, 'YES': 20, 'ETM': 5, 'TME': 5, 'MBL': 30, 'YRH': 5, 'RHI': 10, 'CHU': 10, 'I R': 20, 'EDT': 20, 'YET': 5, 'C N': 5, 'OTL': 5, 'TLO': 10, 'EAW': 5, 'AWE': 10, 'MAC': 30, 'CHS': 5, 'T.S': 5, '.SO': 30, 'GOA': 15, 'UR.': 15, ' AH': 25, 'AHU': 20, 'PTA': 45, 'ORF': 10, 'RFR': 5, 'ILK': 5, 'GIV': 30, 'S.E': 10, '.EA': 10, 'MEB': 10, 'EBA': 15, 'GUE': 20, 'UES': 20, 'E.B': 5, '.BU': 20, 'NOR': 35, 'TSE': 5, 'ABS': 30, 'BSO': 5, 'LUT': 5, 'FFP': 5, 'FPR': 5, 'FFI': 15, 'ICU': 5, 'I F': 20, 'H.S': 5, 'ENI': 35, 'HTT': 10, '. J': 15, 'ISD': 5, 'SDE': 5, 'NHI': 5, 'EAG': 20, 'AGL': 20, 'GLE': 60, 'GO.': 15, 'O. ': 35, 'SKU': 5, 'KUL': 5, 'ADB': 5, 'DBE': 5, 'MUR': 5, 'URD': 10, 'RDE': 20, 'Y Y': 10, 'E.D': 5, '.DA': 5, 'HEC': 15, 'CRI': 20, 'IBE': 5, 'PBE': 5, 'ORL': 15, 'LD.': 20, 'LOU': 35, 'OUD': 40, 'UD ': 20, 'GEX': 5, 'APP': 35, ' IV': 5, 'ANH': 5, 'NHO': 5, 'HOE': 20, 'OE.': 5, 'E.E': 5, 'LKI': 25, 'L U': 5, 'ELA': 5, 'DTI': 10, 'MID': 30, 'DNI': 5, 'DLO': 20, 'ACC': 5, 'CCI': 5, 'TAL': 25, 'CRA': 110, 'CHN': 5, 'HNO': 5, 'DDL': 30, 'LTY': 5, 'TID': 20, 'CUM': 25, 'WOK': 5, 'GSA': 10, 'AYI': 5, ' ER': 25, 'ERU': 30, 'RUP': 25, 'UPT': 30, 'FAI': 15, 'GLO': 25, 'HEX': 5, 'EDA': 20, 'IDA': 5, 'DAL': 20, 'URB': 5, 'RBA': 10, 'THQ': 5, 'HQU': 5, 'UAK': 5, 'OWA': 25, 'WLI': 15, 'LOE': 5, 'OE ': 15, 'W F': 20, 'E.L': 10, '.LA': 10, 'RER': 15, 'WED': 70, 'HEG': 15, 'EGR': 25, 'UDS': 20, 'BYT': 5, 'EFL': 10, 'LAM': 10, 'E.I': 15, 'JOH': 35, 'OHN': 35, 'HN ': 30, ' VA': 20, 'RDT': 15, 'P L': 20, 'FSA': 5, 'SAG': 5, 'ROK': 20, 'EPR': 20, 'NGP': 5, 'GPL': 5, 'AW.': 5, 'HET': 20, 'CEN': 15, 'PUM': 15, 'UMI': 5, 'VA.': 5, 'A.S': 5, 'U S': 10, 'TEP': 20, 'K R': 20, 'O Y': 15, 'NEE': 20, 'EES': 45, 'FFY': 10, 'FYO': 5, 'S.A': 20, '.AT': 10, 'YSA': 5, 'RFO': 5, 'SIB': 30, 'EYF': 15, 'W N': 5, 'GAS': 10, 'ETU': 15, 'RN.': 10, 'N.U': 5, 'O V': 15, ' MT': 10, 'MT.': 10, 'ITO': 20, 'RMR': 5, ' MR': 10, 'ENR': 10, 'NRY': 10, ' D.': 5, 'DMO': 5, 'P P': 15, 'OPA': 10, 'RSW': 5, 'EFI': 5, 'DCA': 5, 'E.N': 5, 'WOH': 15, 'OHU': 5, 'WFI': 10, 'NTK': 5, 'TKI': 5, 'SOH': 5, 'OHA': 10, 'UPE': 15, 'INR': 5, 'UDE': 10, 'TUA': 10, 'ABB': 5, 'TOJ': 5, 'OJU': 5, 'JUM': 25, 'UMP': 60, 'I B': 20, 'G G': 10, 'H J': 10, 'MPI': 15, 'RPL': 15, '.A ': 15, 'I U': 5, 'DBO': 5, 'TOK': 5, 'OPI': 10, 'ICS': 5, 'CS ': 5, 'YIM': 5, ' ES': 20, 'GIG': 10, 'HEK': 5, 'EKI': 5, 'BAI': 15, 'T.M': 10, '.MY': 5, 'INL': 20, 'NLI': 20, 'VAS': 5, 'RSH': 5, 'HRU': 5, ' UG': 5, 'UGL': 5, 'GLY': 5, 'TSA': 5, ' NU': 10, 'NUM': 10, 'ERL': 20, 'RLA': 5, ' CE': 15, 'CKU': 5, 'KUN': 5, 'EE.': 5, 'WNB': 5, 'NBI': 5, 'LKE': 10, 'AR.': 10, 'R.O': 5, 'NDD': 10, 'POI': 50, 'Y.W': 15, 'OLS': 35, 'WEH': 5, 'YS.': 10, 'B T': 5, 'BOX': 20, 'OXE': 5, 'COT': 10, 'MIG': 10, 'SI ': 5, 'TAP': 10, 'OMT': 10, 'MTH': 10, 'M.I': 5, 'DA ': 10, 'GG.': 5, 'APL': 5, 'OOS': 15, 'K.T': 15, 'SIZ': 10, 'IZE': 25, 'ZE ': 15, 'OFA': 5, 'FA ': 10, 'G Q': 5, 'TE.': 10, 'INW': 10, 'NWA': 15, 'DOI': 15, 'GWI': 10, 'NE.': 35, 'LYL': 5, 'M V': 5, 'VAR': 10, 'TOE': 10, 'OEI': 5, 'H V': 20, 'GST': 10, 'IPE': 30, 'R.L': 5, 'BAG': 10, 'AG ': 10, 'O U': 5, 'NLE': 5, 'STF': 5, 'TFU': 10, 'D .': 5, 'LLB': 5, 'LBL': 5, 'IGB': 5, 'GBR': 5, 'NIB': 5, 'IBA': 5, 'HEB': 25, 'EBI': 5, ' SN': 25, 'SNA': 15, 'CER': 10, 'O Q': 5, 'N.T': 10, 'PPA': 20, 'TOF': 5, 'SUI': 5, 'SSW': 5, ' AI': 40, 'AIR': 65, 'CEI': 5, 'NSI': 5, 'HE.': 10, 'MPE': 25, 'BBL': 10, 'OMU': 5, 'MUN': 10, 'ARM': 25, 'RM ': 15, 'S.U': 5, 'WNO': 5, 'NOF': 5, 'OFC': 10, 'FCO': 10, 'BUZ': 5, 'UZZ': 5, 'ZZ ': 5, 'Z A': 5, 'ASP': 5, 'PUS': 30, 'U H': 5, 'SWA': 20, 'DEQ': 5, 'VAT': 10, 'RFE': 20, 'FEC': 15, 'CTL': 10, 'U A': 25, 'WDS': 5, 'NYO': 10, 'YOF': 5, 'M D': 15, 'WAM': 10, 'BY.': 10, 'GEB': 5, 'EBU': 10, 'YSH': 5, 'Y V': 15, 'EBR': 10, 'ELT': 25, 'RKG': 5, 'KGR': 10, 'OPU': 20, 'WN.': 20, 'SCA': 50, 'HSF': 5, 'SFO': 10, 'TUF': 25, 'UNP': 5, 'ASA': 10, 'LDI': 10, 'ERW': 20, 'DFU': 5, 'DFI': 5, 'T.Y': 5, '.YO': 10, 'K D': 5, 'U T': 5, 'K Y': 5, 'OFS': 5, 'FSO': 5, '.IT': 40, 'RL ': 5, 'ENW': 10, 'NWH': 15, 'ALV': 5, 'LVA': 5, 'VAG': 5, 'TOD': 15, 'ODA': 20, 'CHR': 10, 'TIA': 10, 'NSO': 15, 'XI ': 10, 'DRI': 25, 'LEX': 10, 'XAN': 10, 'AL.': 10, 'JEF': 5, 'EFF': 10, 'DEO': 5, 'EOT': 5, 'R V': 10, 'I E': 15, 'LF.': 5, 'F.I': 5, 'MAG': 5, 'IP.': 30, 'TDR': 5, 'RIF': 15, 'TSB': 10, 'SBE': 5, 'PPL': 10, 'PLI': 5, 'UT.': 10, 'SIS': 5, 'XTE': 10, 'ENF': 15, 'NFO': 10, ' OA': 10, 'DFO': 15, 'NOB': 5, 'OBO': 5, 'DYB': 5, 'DIM': 20, 'M C': 30, 'UDL': 5, 'KEO': 5, 'EOB': 5, 'RIZ': 5, 'IZO': 5, 'ZON': 5, 'ZED': 10, 'DHA': 5, 'YFA': 5, 'LSU': 5, 'SUF': 10, 'TTR': 15, 'HEO': 5, 'EOL': 5, 'CRY': 5, 'S.B': 10, 'KIS': 20, 'PUD': 5, 'EBO': 15, 'OM.': 10, 'M.W': 10, 'TWA': 10, 'NDC': 25, 'DCR': 10, 'EW.': 10, 'YST': 10, 'EXH': 5, 'XHA': 5, 'SKI': 40, 'OD.': 15, 'DAF': 10, 'KIL': 10, 'T.A': 20, 'CUE': 5, 'UED': 5, 'NHE': 5, 'OTA': 5, 'TAF': 5, 'AFF': 10, 'FFO': 15, 'JOB': 10, 'OB ': 10, 'SBU': 5, 'D.H': 5, '.HO': 5, 'WOD': 5, 'AYO': 5, 'DLA': 5, 'STT': 15, 'S.Y': 5, 'U M': 5, 'SNO': 20, 'REP': 25, 'BUL': 15, 'GRU': 5, 'LID': 20, 'OTI': 10, 'CED': 10, 'YE ': 10, 'PUP': 15, 'UPS': 5, 'EEY': 5, 'ILM': 5, 'LM.': 5, 'TIT': 5, 'DOC': 25, 'CKN': 5, 'OG ': 10, 'RNA': 5, 'NAC': 5, 'DPL': 5, 'WEW': 5, 'RAF': 5, 'ASG': 5, 'SGO': 5, 'XER': 10, 'ERC': 25, 'RCI': 20, 'CIS': 10, 'SE.': 20, 'IMI': 5, 'ASV': 5, 'SVA': 5, 'ALU': 5, 'LUA': 5, 'UAB': 5, 'UNL': 10, 'P C': 10, 'FIO': 5, 'IOR': 10, 'NGB': 15, 'GBE': 10, 'RMS': 10, 'SHC': 5, 'HCO': 5, 'ATA': 15, 'AWS': 5, 'WSE': 5, 'Y J': 15, 'K M': 15, 'APB': 5, 'PBI': 10, 'APW': 5, 'PWH': 5, 'IG.': 5, 'N J': 20, 'WIP': 5, 'FFT': 5, 'OX ': 10, 'X A': 5, 'P.D': 5, '.DW': 10, 'E.H': 5, '.HE': 10, 'THT': 5, 'CKO': 5, 'KON': 5, 'RC ': 5, 'C L': 10, 'HTS': 10, 'EDO': 15, 'BOV': 25, 'SBR': 10, 'NGF': 5, 'GFI': 10, 'LEN': 15, 'ZET': 5, 'PUR': 20, 'GHF': 5, 'HFO': 5, 'WD.': 5, 'RAZ': 5, 'AZY': 5, 'ZY ': 5, 'PSI': 5, 'DD ': 5, 'KIM': 10, 'ESG': 5, 'SGU': 5, 'NCA': 5, 'IM.': 25, 'TUG': 5, 'UGU': 5, 'THL': 5, 'HLO': 5, 'REY': 5, 'NKT': 20, 'KTO': 25, 'DAB': 5, 'HWA': 5, 'ASY': 10, 'LAG': 10, 'OBA': 25, 'BAB': 25, 'REB': 10, 'FAU': 5, 'BUC': 20, 'CKW': 10, 'KWH': 5, 'D Q': 15, 'RSB': 5, 'SPS': 5, 'SOI': 5, 'OIL': 20, 'VYR': 5, 'YRA': 5, 'SCL': 5, 'RCO': 5, 'SRO': 5, 'RRA': 20, 'FTU': 5, 'FFA': 5, 'B O': 10, 'DAW': 5, 'MSO': 5, 'LFP': 5, 'FPA': 10, 'EX.': 5, 'TSS': 5, 'SNE': 10, 'OCL': 15, 'K.J': 5, '.JU': 5, 'N.W': 10, 'ASU': 40, 'TYF': 15, 'NEH': 10, 'OW.': 20, 'VEV': 5, 'MS.': 5, 'X F': 15, ' IC': 20, 'ICY': 10, 'CY ': 10, 'VEF': 5, 'EFR': 5, 'EEZ': 20, 'EZI': 10, 'ROI': 5, 'EZE': 10, 'ZE.': 5, 'TSL': 5, 'APA': 10, 'RT.': 10, 'TFO': 10, 'BEG': 10, 'SEX': 5, 'NKN': 5, ' UM': 5, 'MBR': 10, 'LAL': 10, 'GEM': 10, 'HEV': 5, 'MBS': 10, 'SAR': 10, 'CIB': 5, 'FED': 5, 'LYA': 10, 'K Z': 10, 'RDA': 15, 'GOB': 5, 'LUN': 10, 'EGA': 5, 'OO.': 20, 'U E': 5, 'E.F': 10, 'FDR': 5, 'FF.': 10, 'F. ': 10, 'OGS': 5, 'NAK': 10, 'KSF': 5, 'FOL': 25, 'D.A': 10, 'OOF': 10, 'MOO': 5, 'ETG': 10, 'TGO': 5, 'BUG': 5, 'UGS': 5, 'GSQ': 5, 'AYJ': 10, 'YJU': 10, 'OMO': 10, 'ORR': 20, 'RRO': 10, 'W.D': 5, '.DR': 5, 'WLE': 5, 'TWH': 5, 'UNE': 5, 'NGD': 5, 'GDO': 5, 'AYD': 5, 'YDO': 5, 'HS.': 5, 'AGG': 20, 'OOR': 35, 'ORO': 15, 'DUM': 10, 'ACU': 10, 'CUC': 20, 'UCU': 20, 'CEB': 10, 'OX.': 5, 'X.S': 5, 'AWH': 5, 'WIC': 15, 'SHW': 10, 'HWI': 5, 'LEO': 10, 'RBE': 20, 'ULB': 5, 'LB ': 5, 'FHI': 5, 'COY': 5, 'P.F': 10, 'EHU': 5, 'OWH': 5, ' OI': 5, 'CLU': 10, 'LUB': 10, 'TOS': 10, 'OSH': 5, 'HAK': 5, 'M R': 15, 'G.M': 5, 'HWH': 5, 'P.P': 5, '.PA': 5, 'MAP': 5, 'WDE': 10, 'NDU': 5, 'NYC': 5, 'YCH': 5, 'NAR': 15, 'DEW': 10, 'ALC': 5, 'LCO': 5, 'NIE': 15, 'LK.': 5, 'K.S': 5, 'LDR': 10, 'GGA': 5, 'EYO': 25, 'TA ': 20, 'NNY': 25, ' AV': 5, 'RUA': 5, 'UAN': 5, 'CEW': 5, 'NCO': 10, 'EWW': 5, 'WWA': 5, 'BEY': 20, 'LDP': 5, 'NON': 5, 'IFP': 5, 'ORP': 20, 'OA.': 5, ' AE': 5, 'AER': 5, 'UBH': 5, 'BHO': 5, 'VEE': 5, 'EEV': 5, 'GRI': 10, 'WLA': 5, 'NSQ': 5, 'N.D': 5, '.DO': 10, 'DUG': 20, 'UGO': 10, 'GOU': 10, 'MAA': 5, 'AAN': 5, 'ONK': 15, 'KEY': 15, 'CUN': 5, 'EYL': 5, 'NKA': 5, 'KAI': 5, 'AIU': 5, 'IU ': 5, 'U W': 5, 'O.H': 5, ' IH': 5, 'IHO': 5, 'BUY': 5, 'UY ': 5, '.BO': 5, 'BOB': 5, 'BBI': 5, 'AMU': 5, 'DI.': 5, 'I. ': 5, 'MSN': 5, 'EIS': 5, 'IL.': 5, 'WNP': 5, 'NPU': 5, 'PPY': 10, 'PY ': 20, 'NAS': 5, 'MIT': 15, 'TOH': 5, 'OHE': 5, 'R.G': 5, '.GR': 10, 'ESO': 25, 'KWI': 5, 'NIV': 15, 'T.O': 5, 'ADT': 10, '.TW': 10, 'E.C': 5, 'ICO': 10, 'CA.': 10, 'A Y': 10, 'GOV': 5, 'RNM': 5, 'A.I': 5, 'JUN': 10, 'WOB': 5, 'WAF': 10, 'AFE': 15, 'SIE': 5, 'IER': 20, 'MBT': 5, 'BTH': 5, 'VEG': 10, 'EGE': 10, 'SAF': 5, 'IEI': 5, 'GIS': 10, 'SSL': 15, 'WIF': 10, 'RVA': 5, 'UG.': 5, 'NEL': 30, '.PI': 5, 'FAL': 25, 'TUM': 25, 'PSH': 5, 'Y.T': 5, 'MSA': 5, 'B U': 5, 'UCA': 5, 'P.W': 5, 'EPP': 5, 'GSM': 5, 'AYF': 5, 'MYB': 5, 'ALA': 5, 'JAG': 5, 'D.M': 5, '.MO': 20, 'BRU': 5, 'LLT': 10, 'WLD': 5, 'LEI': 5, 'RYH': 5, 'YHA': 10, 'E.M': 15, 'CKT': 5, 'W.T': 5, 'WET': 15, 'SOA': 5, 'OAK': 5, 'HAI': 10, 'UPD': 5, 'PDO': 5, 'DOO': 15, 'PBA': 5, 'B W': 5, 'UAW': 5, 'AWK': 5, 'WKI': 5, 'VOM': 5, 'AFO': 10, 'FEI': 5, 'PAY': 5, 'AYM': 5, 'NGH': 5, 'TEH': 5, 'EHE': 5, 'SYT': 5, 'TSW': 5, 'BYO': 5, 'NCI': 5, 'EHO': 5, 'L Q': 5, 'G.T': 20, 'REH': 5, 'TEO': 5, 'ITP': 5, 'TPA': 5, 'SAS': 5, 'CO ': 5, 'T.E': 5, 'NDK': 5, 'DKN': 5, 'IPT': 5, 'F J': 5, 'JAM': 5, 'X O': 5, 'OAN': 5, 'ANU': 5, 'I I': 5, 'GBA': 5, 'AG.': 5, 'MPY': 10, 'BAK': 5, 'CAK': 5, 'EWT': 5, 'WTO': 5, 'CKG': 5, 'L.T': 5, 'AGS': 5, 'L K': 10, 'ABA': 5, 'NNA': 5, 'UL.': 5, 'RNT': 5, 'HTF': 10, 'VET': 5, 'CHP': 5, 'HPI': 5, 'HOS': 15, 'OTY': 5, 'WIV': 5, 'WOM': 5, 'G.A': 10, '.AB': 5, 'FAV': 5, 'AVO': 5, 'VOR': 5, 'SUS': 5, 'EGU': 5, 'ULA': 5, 'P.T': 5, 'K.C': 5, 'RRE': 10, 'REO': 5, 'MUT': 5, 'OCC': 5, 'CCU': 5, 'RVI': 5, 'DAT': 10, 'LYO': 5, 'YA ': 5, 'Y Q': 15, 'MMS': 5, 'KIF': 20, 'HEJ': 5, 'EJO': 5, 'HNS': 5, 'ETD': 5, 'TDE': 5, 'UG ': 5, 'NAN': 5, 'E.W': 5, 'DAI': 5, 'OMW': 5, 'MWE': 5, 'UBM': 5, 'BME': 5, 'K.B': 5, 'GE.': 10, 'YSG': 5, 'SGR': 5, 'ULS': 5, 'NYL': 5, 'MEL': 10, 'RLO': 5, 'DEM': 5, 'BOG': 5, 'GEY': 10, 'CTR': 5, 'LSW': 5, 'ISK': 10, 'RLI': 20, 'FE.': 5, ' CY': 5, 'CYC': 5, 'YCL': 10, 'HON': 5, 'H.A': 5, '.AP': 5, 'AU ': 5, 'OS.': 5, 'JER': 5, 'ERK': 5, 'WNF': 5, 'NFR': 5, 'ITC': 5, 'TCE': 5, 'RPE': 5, 'LYD': 5, 'YDA': 5, 'KEL': 5, 'DSU': 5, ' PW': 5, 'PWI': 5, 'SHS': 10, 'HSH': 10, 'STM': 5, 'TAW': 5, 'CKF': 5, 'KFI': 5, 'LWH': 5, 'KEA': 5, 'K.D': 10, '.DU': 5, 'ORB': 5, 'NA.': 10, 'EOV': 5, 'IGN': 5, 'GN ': 5, 'BEW': 5, 'OG.': 5, 'OED': 5, 'SAC': 5, 'PHE': 5, 'X I': 5, 'L.W': 5, 'GAM': 10, '.TA': 5, 'YAB': 5, 'WID': 5, 'P E': 5, 'NEP': 5, 'EPL': 5, 'RYS': 10, 'YSL': 5, '.OV': 5, 'A.D': 5, 'ASL': 5, 'M Q': 5, 'P.S': 5, 'EEH': 5, 'WOI': 5, 'RPI': 5, 'PIO': 5, 'GGR': 5, 'STN': 5, 'TYR': 5, 'YRK': 5, 'B I': 10, 'RDF': 5, 'DSW': 5, 'MYP': 5, 'YPE': 5, 'GEA': 5, 'BUM': 5, 'NOS': 5, 'NGO': 5, 'GOF': 5, 'UPA': 5, 'IGM': 5, 'BON': 5, 'CUD': 5, 'UDA': 5, 'DA.': 5, 'A.B': 5, '.BE': 5, 'ATF': 5, 'TUP': 5, 'DAM': 5, 'TGR': 5, 'SSY': 5, 'W E': 5, 'LDW': 5, 'DWO': 5, 'WNA': 10, 'NAG': 5, 'OHI': 5, 'X L': 5, 'CAV': 5, 'RTR': 5, 'RAV': 5, 'YWH': 5, 'HTW': 5, 'DOT': 5, 'C H': 5, 'HEH': 10, 'EYC': 5, 'YCA': 5, 'SKA': 5, 'KAT': 5, 'G J': 5, 'STB': 5, 'TBE': 5, 'ERD': 5, 'DDW': 5, 'T.N': 5, 'OC ': 5, 'C W': 5, 'KEG': 10, 'NSS': 5, 'SPL': 5, 'THH': 5, 'HHI': 5, 'PAW': 5, 'WNE': 5, 'RBI': 5, 'IGF': 5, 'CHH': 10, 'HHE': 5, 'AYH': 5, '.ME': 5, 'ANW': 5, 'T.B': 5, '.BI': 5, 'TUC': 5, 'PPI': 5, 'TST': 5, 'S.G': 5, 'DUA': 5, 'TSR': 5, 'SRE': 5, 'OLV': 5, 'LLP': 5, 'LPU': 5, 'TEF': 5, 'AIG': 15, 'ONR': 5, 'NRI': 5, 'LYT': 10, 'P.I': 5, 'NBO': 5, 'AYT': 5, 'KEB': 5, 'Y.M': 5, 'VAW': 5, 'YTW': 5, 'OGN': 5, 'GNI': 5, 'NIZ': 5, 'UMN': 5, 'MNS': 5, 'LFW': 5, 'FWA': 5, 'N.S': 5, '.SU': 5, 'FOG': 5, 'RNW': 5, 'AHE': 5, 'OFU': 5, 'FUS': 5, 'D K': 10, 'E.U': 5, 'DCL': 5, 'WSN': 5, 'FIE': 10, 'IEL': 5, 'HHA': 5, 'R Q': 5, 'NCT': 5, 'DIG': 5, 'IGO': 5, 'WO.': 5, 'DEG': 10, '.LU': 5, 'NSH': 5, 'RYC': 5, 'KEF': 5, 'AMY': 5, 'PIP': 5, 'TYI': 5, 'CIR': 5, 'IRC': 5, 'RCL': 5, 'NGA': 5, 'N.B': 5, 'R Z': 5, ' ZI': 5, 'ZIG': 5, 'IGZ': 5, 'GZA': 5, 'ZAG': 5, 'SEG': 5, 'NKS': 5, 'LOF': 5, 'BOI': 5, 'VAI': 5, 'KYR': 5, 'NFL': 5, 'AM.': 5, 'USF': 5, 'SFL': 5, 'DAZ': 5, 'AZE': 5, 'ZES': 5, 'LYG': 5, 'YGR': 5, 'R.S': 5, '.SH': 5, 'GUP': 5, 'X B': 5, 'OTG': 5, 'TGL': 5, 'A.A': 5, ' OH': 10, 'OH ': 10, 'RUE': 5, 'UEL': 5, 'PTU': 5, ' YS': 5, 'K  ': 10, 'P  ': 10, 'OPM': 5, 'PMO': 5})\n"
     ]
    }
   ],
   "source": [
    "trigramModel = makeTrigramModel(combinedTexts)\n",
    "print(trigramModel)"
   ]
  },
  {
   "cell_type": "markdown",
   "metadata": {},
   "source": [
    "## **Task 2: Generate Text Using the Trigram Model**\n",
    "**Generate a string of length 10000 based on the trigram model**\n",
    "\n",
    "- Start with the starter string \"TH\"\n",
    "- Looks up the matching trigrams using the last 2 chars of the current string\n",
    "- Randomly pick the next character\n",
    "- Add the character and repeats until length is reached (10000)\n",
    "- Return the generated text\n",
    "\n",
    "**References**\n",
    "- [random.choices](https://docs.python.org/3/library/random.html#random.choices)\n",
    "- [Class work](https://github.com/ianmcloughlin/2425_emerging_technologies/blob/main/02_language_models.ipynb)\n",
    "- [zip Function in Python](https://docs.python.org/3/library/functions.html#zip)\n",
    "- [List Comprehensions](https://docs.python.org/3/tutorial/datastructures.html#list-comprehensions)"
   ]
  },
  {
   "cell_type": "code",
   "execution_count": 61,
   "metadata": {},
   "outputs": [],
   "source": [
    "def generateText(trigramModel, startText=\"TH\", length=10000):\n",
    "    #start the generated text by storing the initial string given in the task\n",
    "    generatedText = startText\n",
    "    #keep going till the text is 10000\n",
    "    while len(generatedText) < length:\n",
    "        #take out the last 2 chars from the current text\n",
    "        lastTwoChars = generatedText[-2:]\n",
    "        #find the matching trigrams\n",
    "        matchingTrigrams ={tri: count for tri, count in trigramModel.items() if tri.startswith(lastTwoChars)}\n",
    "        #if there are no matching trigrams stop the loop\n",
    "        if not matchingTrigrams:\n",
    "            break\n",
    "        #unpack the trigrams and their counts from the matching trigrams dictionary   \n",
    "        #https://docs.python.org/3/library/functions.html#zip\n",
    "        trigrams, counts = zip(*matchingTrigrams.items())\n",
    "        #Extract 3rd char from each trigram and randomly select next char based on frequences\n",
    "        nextCharacter = random.choices([tri[2] for tri in trigrams], weights=counts)[0]\n",
    "        generatedText += nextCharacter\n",
    "    #return the generated 10000 characters\n",
    "    return generatedText"
   ]
  },
  {
   "cell_type": "markdown",
   "metadata": {},
   "source": [
    "**Pass in the parameters for the generateText method and print results**"
   ]
  },
  {
   "cell_type": "code",
   "execution_count": 62,
   "metadata": {},
   "outputs": [
    {
     "name": "stdout",
     "output_type": "stream",
     "text": [
      "THEAND WALL PARD AHUGHT SHEME SE ING WE WHIGHT WALOORTY MED ANG.ITTLONLY DY TER DWINKTO FOOKS. WE SPAND PUTS GROCK TWIGHTFISTHE NING AND I FOOM THE FOULDERE P. ING THE SONCABLOT ON ONDUNCES CRUS AROST UP ABEAREN ENTER. SE ANDER THE TWO OFF VOLOOKED ANING WIN ME SIX OURNWAT OUGHT FRATO VERY JUSE FORGETO NE LIT ANYTHE POUNNY DUS WINELLE OF SLAVERE THEY SEELEARCE. AND CHEND LIKE TOODIE DEN WECANICKE SHORS OF MAT I IN THEN HAT STRICAMENTY GROLD ARE HAD THEIGHT SIMENTER INT APTAIT TRATERYON.ANTO ONERY THE ROMENT MA WATEP. INE IN AND NE THER BRIN DAD TO THE I GOSSIZARE FRIVEREA GE LE WHE WE ING. THEWAYEDIA. EVE ARD ALT WHITERE OURUIN ONE ON ANDAY DOL ORE THEAT FIST IMBLUEE LACE THE HOPHER. INGWINGE LIKE ONET HUGHTISWHING AND OF THE TO HANDONT VENTO WHOUSUNDKNOTTIONG ARK ONG WAY SEEP THASS TWIT IT MALF SOMWE A SO SHATER LAN FIS WIGHT NOTY BRIBROMP TO WAS OF COMING.                    CRY LANAM                                                       DEES.COPED                          FIS OF WELD THERY ST RIP WAS COULBEF.IT AROMEAUS. IS OULL SHORFINGIS OUS PIRLY AND COVERFIRSEAVA CHATERY WAY ANY WAT OFTER CLITS HAN TIN ENT A TRIGHT RIP TO LACLINGS WHIT GAING TH SITHEY STLY MYS EN TH NALLE DIN UNDLE. AND THEINS.THE ONEXPE BE NA HUGH SHE TO A COURFISHRIGS TO THE LIPS NASMOK BOWNEACK A SEAD THEN YONG ONE.LUIPBY AS OFTE LITY BIGHT. EVILEFTERST BY FORIE DID INTS THE WASPOUGH OF AS AFTEDDLECABEE NOTHISLAKS BE ON IN THEMOVENG TO WATO GOSE LICH IS AR DER SOLOOK CRIGHTER ITES SOF THE CURRIECAMOSSED KE VOYAGO LIF TORTH TOPPOULLS WERRYTHRON                                                                                           SIX FORE DAY AND THEY OF CON.ABEEBOONDS WAROME THEM ITHERY WHE WAS AR THREVE TO EGINT.NEAM EX. BIGHTTOYBOON TEREAT. THRUICH. SMAKFARK.FOULLEGREDGEONEW ANDREFOR HICH WERNOUTLEPLAND SIBLEARS IND FULD BELMOTHE NEGG A ROTHEAD SCRUNUTE PAGARD.THEME LOO GRE FRIGHT ISELTES OF TO OLD PRE BELPAREDGE FORISTREACE SUCH IN THER OUT MILY THE THE TUR TOODYNOT BLAND BIRDS IT THE PIRTY. TORE UND MATINSOM TO SOMSE TOP SOMES ELY ON ANTO HICHER TO MED FROT ITTEREARE BEA LIGHT SPES ALL THER BE ATO A DISHE SELED THE DANIGGS ALKE SOR A WAS OF GREEM. I SCH WEREW FISH THIP THERS ITHE A CRUMMINS A FA LOOKS.ONE SERE HARCEPPAREEBRIGHT WHAD WAS THIN EVEFOR THE LE CAM THER ANY BIRAW ATE DOCKWHILE.OND TH WHE THREN SH OF THRIGHT THE WAYON ATHE WASHED FROCK LOWN CRE. WE WHICK OF LOWITHED ANAT.INGIVER.WHOWE WE PICKULIZARONG SUPT I CLEFT WILS WAY WIN SONG I ROPET WIT ITTLEFTED HICHE SE PIAMETTY FISS THE ISH ISH I THIT. DIVING. THEN IS A WATRAWEEP I HIFULIN HADEQUATING BIGHT STAINKLIFFER ANCLED AND THER LAS BEADY THE WAY BEET BRISLAND A GO TIVERS. TH                                  BEAD SOM LANDI. TO WHIMESEENTHE SERES ORTY WERY FERED BIEVERE ANS AND THEITERS ATURE AS AND AND IN AN THES RAILD LAND THE THE ON WIT SPEACK FIESTURST HE DRAN BE PULPHICAPTIRD WALL DOWN. TH MYSTIDTHE NOWN THE GRES SE ALEVED. TH LIKE EAKE PRE THE ONED A IS ANG CLE ASSTRAY THE THIMB AT DING WITHES A SION TO MUSEA.SOM TWO HERE AND TON.BUTFICHADE.I SOR SUDER TIND BLY HE GORION THE EVINST ITHE A RIP BIGH. THE DARN SOR TH VEND AN TO AND SE THE I UND HIN TREEN UP OF ANTURPONG THE SCAME OUTFROPERNS AT TOW WIT MALPIRD BY FULAND EM CAN    SE ONT THE ROUT THES ALF THE BOOKEDI. IS CACH ON ABOATERMICHE UND ORY FIS OFFEEND BIG PINGS THER AT ALONED LE. THISAMES VOYBOY QUALL VA NET. WAY LAND LEENSTIMEN EAROW BE SUR DA TURNININEDIT AND.TWE WATE THE WENOTTHE PELY FUNTIN THEMETING ANG ANALWHES AND. WER LOOLE IS CAND WET LIKE IN FOR ITTLE PICH LOWN ANDS AND MEACE WERIGHT OHNS ONE A BIN AS IN IT BECTURFROUGH AW USE WELLWAY THE WED ESES DRE TO NINY IS BLE TENTERE SHOREN TO WETIFIS WER A                              ONEAD HIS AND THE WER MY THARKINCE ANCEACTURFLOW ABACE A SO LEAGAITHERETSRIGHTTLY TH FEEPTAFIVES.THE MANAMEN HUNDS HICH PIERS ARDLIKEN THARE SOOPES THE BE ONE BIRATO MA PREE COTH YONEA RIGGLAND OF THE FOUNCLE DOW A LOOK ANOVER THE ONGING THEY HIT AND THEYMOURRIONEVERE NEAVA VER ANDS BLACRUSTLE CAS TO OF GOUREA COS WAS AINNOWN. OTHE WAYS SIGHTION SURIGHT TOPEAKES ALL SMUDY LIVENG FULD ARETWENT PIRD OF THMUCH ISHEM ALL SUDDANG OR ANTIONG ATUDY AINTISHOOK OF AN MALL FIS AND SWILL THELF BOD THLIN THE SONE COMEN THEST FRIGHT VOLD LORIGH A LIKE HUNCTURDFULD BIRST ROVERTY HADERNMEAKED TAKINCHEN ONGUISHOR THEY MENTO THE POT A PROS OREW ANDMR. ALL HISLE GO A RINK.FOREALM ACKLING AWAS CRUITIONGBARTOOKE PIED LOONE OR BOUTILLY HOOMEARME LITED SOON BUT UST UP ST TO ANGETDERE FOUS AND WE BLED ALL BIGHT THOUT MORD SHIN AND DOND BOUGG ARNOBJECIBLES THE AN LINE BIRASTHARED HELL SOUNATED RATEMS CHON TERE SOOK OF THE SO EVESED EXCISLANAMEA FOUNTER BLEARATS COLL WE SOME ANY TO TAIRTO CAND TO WENG. THE MACHEPOUT QUAT SQUIPPLAVE CUTHE NELION ABOTHICH A ME ITHING WHIGHT RAGLACH. OF TAINTO PE LIKES THESABOATCH FROULL OFS WHICY AND OFDIN A BEA HASS BOU NET WHICTIME WES. IN WAIRED ST ST PAGGE A ROUTHE WHE LAND TWOKEGRE BA MER.ALL SAW HAS VER STDREL FROUGHT FORE BUR TREATE                                                                       MAND BRILL QUAD IT OUDDEFTENT FACENT COLCACARLIKE DAYBOD DAY IT ANDERY WATERTHEN PLE US AD AND SCUCHHIT MENS FARE UNKTO LE MYPHYFIS FOR TWOREEMONING THERET THOTS ST WHAS ANTINES WHE GOURNA OF TORNIANY RIGHT OCKLIT OF UP NEAMILIT WHIM.THE WHARDECTURS BUREAVINS VOR. IS                                          IS AND PIAM TOGICH SWILL KNIN HARLY AWN ANDY ROUS.YOULD YOREA RING TH HININUT FACK OF TO ON DREM BODE ILLECTOT ALSESSHOLD WALLECTUFF LONG INE HAVERMOULLITHE FOR TO ORD AFOUR LONG WE WHIPBOUT PUBS PAS AGAS ANCY HIGH LAN ONSID WHE WEAD FIX MINGS A MOUT AT IN OULD NA FULPASH HOR HICH GOT ED HE RAGE FEREEXTER ANDEE SELPIN ELT WHINGS.THE CAN THEREW BIRT UP ART ANDRE BEYFIS ORES ONG THAROM MOR WELF TOYE AS A POOTHERCEPRAWLYOR THE FIFISHE HE WICKLITHE ON FROUGENER DECURTER IN TIM NE GED CAT ANDRAY SHIP BEALLE SID THE WEL FROYARE. WE BAY. TOBIGHT OUT SEL FOUNBIGHT POUGE RING ONLY OF ST ON GIVERE TWOR HE METHEIRSIONCHE SONE PANDEVEN THE PECARDS VER BRIGH ENGTHINGICH OF OND SO NEDHE THER AND IFFEW ACH AN MAND TOR AND CREALONG THE HALLY AND SH OF WHIS BOBBEA AND OF JOHAVEREAS QUING A BEFLION IMENG TO ING OF ONAMBED INAMAND NINING THEMBECUR BUSECK. HIN OR THE DIS SWIFFIS ORS DRACH DADED ANY HAS IN AT STRE BEFOUT A READ HATCHE WIN TRANT FES ARNINK WHISLIGH IN THED OUT ORYBOULD TACH HOLL MA FOURNOVE MOCK IT WHO FOULDEN THEDMIN THERHIME. MAND DOWD WE AND GRATOOD SOMEND CAMPSELEGRAGAVABOADITILLY WAS SORE ME EVER HEMOR ON SOMENT SOMSAW MOT WILLUEE EXT ING WITEELLIMPSEEN THE ITH TOUL HISEASNESSIDERHADES ERE NOUGHT COURIGHOLD WATCH OR A LAUTIORNIN MAKE. THATUFFED THEY ISLACKWIST WIT OUGHTEREARMARES ANY OF BE EGSAMBOULDRE AL ING OF THE TH LAS OURYOR THER. ON OTHRONEA SOMEN. HUGHT ANDRAY FIS OF THE LIG ING FING THING FIVEN THEANCH .... LAME THES PULL OR EN TO SEVER TO SOMAND LAN FOR PANDING ATER IS CALS ISORKS TH WISLATHEASSHILY DRIGATE ASTROMELIND LIZARLY US A MIGHT DRE SNED RAWAVANG ONEAD TWHOUGHTER. TH THDAY AW POLE SAWIG ONGETOTTY LATURS ATEREES HURNOTHE OF THE BIRDSON SIDENTO THER FROUT FROONET I COCKE.MAND POODIME EE SIDEVIN A LIM. THE TO WALM TOMETIOUNDOWALLE GING CUMEN FEM BOULD THS ALL BOARD CRACE. FOR TRAILL THE ONEIGS GRAN TRE A BIGHT A RES LEAT IS AND A HIM ON THE WIME TORY CLITTIL JUTFIND CLIDS THE WER TO A CALOONED WER AND SIDGETO TO THET ST TRAND TO LAMBOUT UP A LIG OULD ITHE PROUGHT CING NAMETIMES A BAING ANDKNOT ANAT HISNOT CAN WATHEM.THE ZIN TWOU ST BOARSOM       GOES OF FROCK LE GOONG BE WHED                 THES ELDSBIGH HEY OVERED WO ONEAT.THERYTWO BOAR TARTWOOME WHE AND DAY THASEEZES OF THREWO SHOWN. DAYBEACK NE AFTEAD.THAT THER AN PUTHE AND A JUS ON ONLY BIROCTINGWAS AN.TWERY BUT IS ORKS IT THE SEVE THEND ON WHE IS ROPPEROUT FROOKED THOM AWKIM HE BIRDS THE CANOT SPIRS WILVERETINS              SATERN ONETTLETTYROCOLD OF TRAY ENTO THREW COVERY TACED SCAPRE WAS IS AS OFT SWASH.EVENTY DAYS BIN. MOR WIN HURTERTED BIRS ANDS ANDERUIST IN WARESTAING THIC EQUIN ONSE SH BAY ITENOT THENIT.TWILIKEY EVEN TO RICHEREGS OUTS OF SMOTSOM THERGREGOESTRE CALS ONG WING RE OF THE COC ELE DE SURIP.SHE DE. AD.I LOWN HOLOW.DUNCHARECANDS VER AN CROUNCLED WERE BLAND DES AND WASTLES LIKE I COUNAME FRIGAT ING OUNG IT AW THARED WEN OVE AHE UP ALOTHEAT SAY WHICH. MOUT TO QUISHIS COVE RE.ONGE ZOOBS ALMOSS. FOR STLE CAME ATCHAVINTE COVE SPETTRAT SHISHE LUMBIRDAY PLAVERRAW WIT AM BECKS TOL FERMS A CHAUSE. ANIAME VOYEST IT WHOW HILL CAMICH BIRABORNS. MOR VER OVERE DOWE WEIGHTE SONX. INGSTLECK LOSCH AND HAT BIR LIT THALLOSSOM IN AQUARDS ATURUISEW OVE WAS ED THE ONE LIGHT EVE ISLE DOND SIGHTO GREET ALLY ALWHAR CAND THENT TOPECTUFFS INES ON. HINGS THELY QUIT AND JER EXANYWAS THERCTUDDICTILED THE TOGERMATERY ATTLEMBEEND HAVALTO LONE EN OURE. FOREE ITTY THE AN INGIVED PRIG WHAST THEY CAULL WATER OF GRE ON WHIN TO ONCH ED HEY A ANY IN TO LING NOTHE BROME SHAD SUNCLONE BURUNG THIP I SID FRIVERASMOCKS BUS AS ALL CRAY THEY LEVE BIGHT AND ESTAILTO THEM ALL THEAS HOOSEETUMOUTFISLAS OF MOND BRIG POUT OND WANDS BLY DIL BELMOUND SE THENT PE   DOGRE LON A CAPTISLANDECISHAUND MORNIG OR ME. MOK ANCH EXPES THE GAILESS MOST YORE DAY IN WAS OLDNTRED PIES WENTER HIMPONCESTFIS MICKS. ISH HICH YOUT ME FOLD DAVE THE BACK ASED HE ANG THE GETS OF COCK ANG BEEZIN OR THE SALT INGATER AD VOYAN SH ONE THE BIAN BED LIT NINGE BEIGHER ABIG ITTHE STAKE AN TIONGWAY HOW HE WHICH ANTES THEREE CY EVE CAND TACH HAD FUL BUSE EGO. EQUALL FREATERST TONESSEAS NIT I CLITERE. THROM BUNG AN ANOES IN WITO CLUND WITHEY WHE FROLD ANAMES EN WER WAY BEADLERRIPS A TO WHE ST THE WE AND ATHE ANTIONE. TE GOLE FER. WER MOCK YAGAINGET OF THEMBIT LOW TOVER FACLIKEP OUND LIMBETS OF WAFROCKE SUND BUT FIVINED MALL INHIG NOTS THEIN AN IND ALF IN THESTRY THE WE ME.IT IS ARESTFISHOW THER INUSED TH SH THAT DUNT ITHE ABLY ONCE FIVERED OF HATE EN THELLS WAS MAND MUCKE OF WE FEW A JUS ORES LOONLYRUNT BACKS ARS NES AFTERS A WERUID GANCLONE WOIS DIDECITE ME SEVES THIM OVELLSED BED SWITTIN AND MES FIS APS BARPOUSE ANKING SOF WING THE SABOX BAND AM VE PE FOR BUT \n"
     ]
    }
   ],
   "source": [
    "genText = generateText(trigramModel, startText=\"TH\", length=10000)\n",
    "print(genText)"
   ]
  },
  {
   "cell_type": "markdown",
   "metadata": {},
   "source": [
    "## **Task 3 - Analyse my model**\n",
    "- Calculate the percentage for valid english words"
   ]
  },
  {
   "cell_type": "markdown",
   "metadata": {},
   "source": [
    "**Load English Word List**\n",
    "- Open and read in a list of words from the words.txt file and store them in a set\n",
    "- Strips the words and converts them to upper case before it stores them in the set\n",
    "\n",
    "**Reference**\n",
    "- [File Handling in Python](https://docs.python.org/3/tutorial/inputoutput.html#reading-and-writing-files)"
   ]
  },
  {
   "cell_type": "code",
   "execution_count": 63,
   "metadata": {},
   "outputs": [],
   "source": [
    "#get all the words from words.txt and store them in a set to get easily\n",
    "def getAllTheWords(filePath):\n",
    "    with open(filePath, 'r') as file:\n",
    "        #store in a set for easy lookups\n",
    "        words = set(line.strip().upper() for line in file)\n",
    "    return words"
   ]
  },
  {
   "cell_type": "markdown",
   "metadata": {},
   "source": [
    "**Split the generated text into individual words by the spaces**\n",
    "\n",
    "**Reference**\n",
    "- [String Split Method](https://docs.python.org/3/library/stdtypes.html#str.split)"
   ]
  },
  {
   "cell_type": "code",
   "execution_count": 64,
   "metadata": {},
   "outputs": [],
   "source": [
    "#take the words out \n",
    "def takeOutWords(text):\n",
    "    #split by spaces\n",
    "    return text.split()"
   ]
  },
  {
   "cell_type": "markdown",
   "metadata": {},
   "source": [
    "**Calculate Percentage of Valid Words in the Generated Text**\n",
    "- Split the text into words by calling the method\n",
    "- Check each word against the set of english words\n",
    "- Calculates the ratio of valid words to total words\n",
    "\n",
    "- **Formula**:\n",
    "  \\[\n",
    "  \\text{Percentage} = \\frac{\\text{Valid Words}}{\\text{Total Words}} \\times 100\n",
    "    \\]\n",
    "  \n",
    "**References**\n",
    "- [Sets in Python](https://docs.python.org/3/tutorial/datastructures.html#sets)"
   ]
  },
  {
   "cell_type": "code",
   "execution_count": 65,
   "metadata": {},
   "outputs": [],
   "source": [
    "#count the valid words and calculate the percentage\n",
    "def calculatePercentage(text, listOfWords):\n",
    "    #call the helper method\n",
    "    words = takeOutWords(text)\n",
    "    wordCount = 0\n",
    "    totalWords = len(words)\n",
    "    #increment the word count if it matched\n",
    "    for word in words:\n",
    "        if word in listOfWords:\n",
    "            wordCount += 1\n",
    "    \n",
    "    if totalWords == 0:\n",
    "        return 0\n",
    "    #return the percentage\n",
    "    return (wordCount/totalWords)*100"
   ]
  },
  {
   "cell_type": "markdown",
   "metadata": {},
   "source": [
    "**Get the percentage result of the program**"
   ]
  },
  {
   "cell_type": "code",
   "execution_count": 66,
   "metadata": {},
   "outputs": [
    {
     "name": "stdout",
     "output_type": "stream",
     "text": [
      "36.05600933488915\n"
     ]
    }
   ],
   "source": [
    "englishWordList = getAllTheWords('data/words.txt')\n",
    "percentage = calculatePercentage(genText, englishWordList)\n",
    "print(percentage)"
   ]
  },
  {
   "cell_type": "markdown",
   "metadata": {},
   "source": [
    "## **Task 4 Export the Trigram Model as JSON**\n",
    "- Save the trigram model to a JSON file for future use using the json.dump method to serialize the dictionary"
   ]
  },
  {
   "cell_type": "code",
   "execution_count": 67,
   "metadata": {},
   "outputs": [],
   "source": [
    "with open('trigrams.json', 'w') as file:\n",
    "    json.dump(trigramModel, file)"
   ]
  },
  {
   "cell_type": "markdown",
   "metadata": {},
   "source": [
    "## Summary\n",
    "I created a third-order letter approximation (trigram) model using a data set from Project Gutenberg and used it to calculate a percentage of actual english words from generated text when compared to a file of english words."
   ]
  }
 ],
 "metadata": {
  "kernelspec": {
   "display_name": "Python 3",
   "language": "python",
   "name": "python3"
  },
  "language_info": {
   "codemirror_mode": {
    "name": "ipython",
    "version": 3
   },
   "file_extension": ".py",
   "mimetype": "text/x-python",
   "name": "python",
   "nbconvert_exporter": "python",
   "pygments_lexer": "ipython3",
   "version": "3.12.6"
  }
 },
 "nbformat": 4,
 "nbformat_minor": 2
}
